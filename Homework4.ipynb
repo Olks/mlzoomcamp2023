{
 "cells": [
  {
   "cell_type": "markdown",
   "id": "3902797c-b50a-491b-bb84-997ce534a9d4",
   "metadata": {},
   "source": [
    "# Homework 4\n",
    "- Student: Aleksandra Kocot\n",
    " - [Git Hub page with the Homework Week4 questions](https://github.com/DataTalksClub/machine-learning-zoomcamp/blob/master/cohorts/2023/04-evaluation/homework.md)"
   ]
  },
  {
   "cell_type": "code",
   "execution_count": 2,
   "id": "d8526c5d-7a05-4cfc-a5a2-9f5dd34ee632",
   "metadata": {},
   "outputs": [
    {
     "name": "stdout",
     "output_type": "stream",
     "text": [
      "--2023-09-23 16:48:28--  https://raw.githubusercontent.com/alexeygrigorev/datasets/master/AER_credit_card_data.csv\n",
      "Resolving raw.githubusercontent.com (raw.githubusercontent.com)... 2606:50c0:8001::154, 2606:50c0:8002::154, 2606:50c0:8003::154, ...\n",
      "Connecting to raw.githubusercontent.com (raw.githubusercontent.com)|2606:50c0:8001::154|:443... connected.\n",
      "HTTP request sent, awaiting response... 200 OK\n",
      "Length: 73250 (72K) [text/plain]\n",
      "Saving to: ‘AER_credit_card_data.csv’\n",
      "\n",
      "AER_credit_card_dat 100%[===================>]  71,53K  --.-KB/s    in 0,04s   \n",
      "\n",
      "2023-09-23 16:48:29 (1,58 MB/s) - ‘AER_credit_card_data.csv’ saved [73250/73250]\n",
      "\n"
     ]
    }
   ],
   "source": [
    "!wget https://raw.githubusercontent.com/alexeygrigorev/mlbookcamp-code/master/chapter-02-car-price/data.csv"
   ]
  },
  {
   "cell_type": "code",
   "execution_count": 1,
   "id": "a94a11d0-a30b-45f0-b44e-e4781ba77d12",
   "metadata": {},
   "outputs": [],
   "source": [
    "import numpy as np\n",
    "import pandas as pd\n",
    "import seaborn as sns\n",
    "import matplotlib.pyplot as plt\n",
    "from sklearn.metrics import roc_curve\n",
    "from sklearn.linear_model import Ridge\n",
    "from sklearn.model_selection import KFold\n",
    "from sklearn.metrics import roc_auc_score\n",
    "from sklearn.metrics import accuracy_score\n",
    "from sklearn.metrics import recall_score\n",
    "from sklearn.metrics import precision_score\n",
    "from sklearn.metrics import mutual_info_score\n",
    "from sklearn.metrics import mean_squared_error\n",
    "from sklearn.preprocessing import OneHotEncoder\n",
    "from sklearn.linear_model import LogisticRegression\n",
    "from sklearn.model_selection import train_test_split\n",
    "from sklearn.feature_extraction import DictVectorizer"
   ]
  },
  {
   "cell_type": "markdown",
   "id": "0f936d08-1aca-43c2-931a-1d4f527f2db1",
   "metadata": {},
   "source": [
    "## Preparation\n",
    "Create the target variable by mapping yes to 1 and no to 0.<br>\n",
    "Split the dataset into 3 parts: train/validation/test with 60%/20%/20% distribution. Use train_test_split function for that with random_state=1."
   ]
  },
  {
   "cell_type": "code",
   "execution_count": 2,
   "id": "5e37db1c-b250-400b-9981-39500931667d",
   "metadata": {},
   "outputs": [],
   "source": [
    "df = pd.read_csv(\"data.csv\")"
   ]
  },
  {
   "cell_type": "code",
   "execution_count": 3,
   "id": "20da8e9b-83b2-43d3-bcb4-0912d6589c48",
   "metadata": {},
   "outputs": [
    {
     "data": {
      "text/html": [
       "<div>\n",
       "<style scoped>\n",
       "    .dataframe tbody tr th:only-of-type {\n",
       "        vertical-align: middle;\n",
       "    }\n",
       "\n",
       "    .dataframe tbody tr th {\n",
       "        vertical-align: top;\n",
       "    }\n",
       "\n",
       "    .dataframe thead th {\n",
       "        text-align: right;\n",
       "    }\n",
       "</style>\n",
       "<table border=\"1\" class=\"dataframe\">\n",
       "  <thead>\n",
       "    <tr style=\"text-align: right;\">\n",
       "      <th></th>\n",
       "      <th>Make</th>\n",
       "      <th>Model</th>\n",
       "      <th>Year</th>\n",
       "      <th>Engine Fuel Type</th>\n",
       "      <th>Engine HP</th>\n",
       "      <th>Engine Cylinders</th>\n",
       "      <th>Transmission Type</th>\n",
       "      <th>Driven_Wheels</th>\n",
       "      <th>Number of Doors</th>\n",
       "      <th>Market Category</th>\n",
       "      <th>Vehicle Size</th>\n",
       "      <th>Vehicle Style</th>\n",
       "      <th>highway MPG</th>\n",
       "      <th>city mpg</th>\n",
       "      <th>Popularity</th>\n",
       "      <th>MSRP</th>\n",
       "    </tr>\n",
       "  </thead>\n",
       "  <tbody>\n",
       "    <tr>\n",
       "      <th>0</th>\n",
       "      <td>BMW</td>\n",
       "      <td>1 Series M</td>\n",
       "      <td>2011</td>\n",
       "      <td>premium unleaded (required)</td>\n",
       "      <td>335.0</td>\n",
       "      <td>6.0</td>\n",
       "      <td>MANUAL</td>\n",
       "      <td>rear wheel drive</td>\n",
       "      <td>2.0</td>\n",
       "      <td>Factory Tuner,Luxury,High-Performance</td>\n",
       "      <td>Compact</td>\n",
       "      <td>Coupe</td>\n",
       "      <td>26</td>\n",
       "      <td>19</td>\n",
       "      <td>3916</td>\n",
       "      <td>46135</td>\n",
       "    </tr>\n",
       "    <tr>\n",
       "      <th>1</th>\n",
       "      <td>BMW</td>\n",
       "      <td>1 Series</td>\n",
       "      <td>2011</td>\n",
       "      <td>premium unleaded (required)</td>\n",
       "      <td>300.0</td>\n",
       "      <td>6.0</td>\n",
       "      <td>MANUAL</td>\n",
       "      <td>rear wheel drive</td>\n",
       "      <td>2.0</td>\n",
       "      <td>Luxury,Performance</td>\n",
       "      <td>Compact</td>\n",
       "      <td>Convertible</td>\n",
       "      <td>28</td>\n",
       "      <td>19</td>\n",
       "      <td>3916</td>\n",
       "      <td>40650</td>\n",
       "    </tr>\n",
       "    <tr>\n",
       "      <th>2</th>\n",
       "      <td>BMW</td>\n",
       "      <td>1 Series</td>\n",
       "      <td>2011</td>\n",
       "      <td>premium unleaded (required)</td>\n",
       "      <td>300.0</td>\n",
       "      <td>6.0</td>\n",
       "      <td>MANUAL</td>\n",
       "      <td>rear wheel drive</td>\n",
       "      <td>2.0</td>\n",
       "      <td>Luxury,High-Performance</td>\n",
       "      <td>Compact</td>\n",
       "      <td>Coupe</td>\n",
       "      <td>28</td>\n",
       "      <td>20</td>\n",
       "      <td>3916</td>\n",
       "      <td>36350</td>\n",
       "    </tr>\n",
       "    <tr>\n",
       "      <th>3</th>\n",
       "      <td>BMW</td>\n",
       "      <td>1 Series</td>\n",
       "      <td>2011</td>\n",
       "      <td>premium unleaded (required)</td>\n",
       "      <td>230.0</td>\n",
       "      <td>6.0</td>\n",
       "      <td>MANUAL</td>\n",
       "      <td>rear wheel drive</td>\n",
       "      <td>2.0</td>\n",
       "      <td>Luxury,Performance</td>\n",
       "      <td>Compact</td>\n",
       "      <td>Coupe</td>\n",
       "      <td>28</td>\n",
       "      <td>18</td>\n",
       "      <td>3916</td>\n",
       "      <td>29450</td>\n",
       "    </tr>\n",
       "    <tr>\n",
       "      <th>4</th>\n",
       "      <td>BMW</td>\n",
       "      <td>1 Series</td>\n",
       "      <td>2011</td>\n",
       "      <td>premium unleaded (required)</td>\n",
       "      <td>230.0</td>\n",
       "      <td>6.0</td>\n",
       "      <td>MANUAL</td>\n",
       "      <td>rear wheel drive</td>\n",
       "      <td>2.0</td>\n",
       "      <td>Luxury</td>\n",
       "      <td>Compact</td>\n",
       "      <td>Convertible</td>\n",
       "      <td>28</td>\n",
       "      <td>18</td>\n",
       "      <td>3916</td>\n",
       "      <td>34500</td>\n",
       "    </tr>\n",
       "  </tbody>\n",
       "</table>\n",
       "</div>"
      ],
      "text/plain": [
       "  Make       Model  Year             Engine Fuel Type  Engine HP  \\\n",
       "0  BMW  1 Series M  2011  premium unleaded (required)      335.0   \n",
       "1  BMW    1 Series  2011  premium unleaded (required)      300.0   \n",
       "2  BMW    1 Series  2011  premium unleaded (required)      300.0   \n",
       "3  BMW    1 Series  2011  premium unleaded (required)      230.0   \n",
       "4  BMW    1 Series  2011  premium unleaded (required)      230.0   \n",
       "\n",
       "   Engine Cylinders Transmission Type     Driven_Wheels  Number of Doors  \\\n",
       "0               6.0            MANUAL  rear wheel drive              2.0   \n",
       "1               6.0            MANUAL  rear wheel drive              2.0   \n",
       "2               6.0            MANUAL  rear wheel drive              2.0   \n",
       "3               6.0            MANUAL  rear wheel drive              2.0   \n",
       "4               6.0            MANUAL  rear wheel drive              2.0   \n",
       "\n",
       "                         Market Category Vehicle Size Vehicle Style  \\\n",
       "0  Factory Tuner,Luxury,High-Performance      Compact         Coupe   \n",
       "1                     Luxury,Performance      Compact   Convertible   \n",
       "2                Luxury,High-Performance      Compact         Coupe   \n",
       "3                     Luxury,Performance      Compact         Coupe   \n",
       "4                                 Luxury      Compact   Convertible   \n",
       "\n",
       "   highway MPG  city mpg  Popularity   MSRP  \n",
       "0           26        19        3916  46135  \n",
       "1           28        19        3916  40650  \n",
       "2           28        20        3916  36350  \n",
       "3           28        18        3916  29450  \n",
       "4           28        18        3916  34500  "
      ]
     },
     "execution_count": 3,
     "metadata": {},
     "output_type": "execute_result"
    }
   ],
   "source": [
    "df.head()"
   ]
  },
  {
   "cell_type": "code",
   "execution_count": 4,
   "id": "af3cc4ed-6560-4935-9869-1c9fbe162c54",
   "metadata": {},
   "outputs": [],
   "source": [
    "columns = [\n",
    "    'Make',\n",
    "    'Model',\n",
    "    'Year',\n",
    "    'Engine HP',\n",
    "    'Engine Cylinders',\n",
    "    'Transmission Type',\n",
    "    'Vehicle Style',\n",
    "    'highway MPG',\n",
    "    'city mpg'\n",
    "]"
   ]
  },
  {
   "cell_type": "code",
   "execution_count": 5,
   "id": "79d73578-0d5a-4b67-a40a-204bc287ea93",
   "metadata": {},
   "outputs": [],
   "source": [
    "df = df[columns + [\"MSRP\"]]"
   ]
  },
  {
   "cell_type": "code",
   "execution_count": 6,
   "id": "fde98cf2-ec0d-4db1-9e99-d2b48bea6da5",
   "metadata": {},
   "outputs": [],
   "source": [
    "df.columns = df.columns.str.replace(' ', '_').str.lower()"
   ]
  },
  {
   "cell_type": "code",
   "execution_count": 7,
   "id": "4e41fe37-5351-41d3-96f3-7a6befd046bf",
   "metadata": {},
   "outputs": [],
   "source": [
    "df = df.fillna(0)"
   ]
  },
  {
   "cell_type": "markdown",
   "id": "401d6b59-bfae-4cb3-8e63-1e71fbabf720",
   "metadata": {},
   "source": [
    "#### Target variable"
   ]
  },
  {
   "cell_type": "code",
   "execution_count": 10,
   "id": "57e507eb-2662-4cfe-9a74-5b97ad68a436",
   "metadata": {},
   "outputs": [
    {
     "data": {
      "text/plain": [
       "40594.737032063116"
      ]
     },
     "execution_count": 10,
     "metadata": {},
     "output_type": "execute_result"
    }
   ],
   "source": [
    "price_avg = df[\"msrp\"].mean()\n",
    "price_avg"
   ]
  },
  {
   "cell_type": "code",
   "execution_count": 11,
   "id": "5707b9d1-24b1-4bc8-81f1-708ef98b5e34",
   "metadata": {},
   "outputs": [],
   "source": [
    "df[\"above_average\"] = (df[\"msrp\"] > price_avg).astype(int)"
   ]
  },
  {
   "cell_type": "markdown",
   "id": "478eab57-b509-412c-b31d-cedbda770fd2",
   "metadata": {},
   "source": [
    "#### Train, test, validation set split"
   ]
  },
  {
   "cell_type": "code",
   "execution_count": 13,
   "id": "6a9b49e9-e6c5-4134-a431-954518ef5a65",
   "metadata": {},
   "outputs": [],
   "source": [
    "df_full, df_test = train_test_split(df, test_size=0.2, random_state=1)\n",
    "df_train, df_val = train_test_split(df_full, test_size=0.25, random_state=1)\n",
    "\n",
    "df_train = df_train.reset_index(drop=True)\n",
    "df_val = df_val.reset_index(drop=True)\n",
    "df_test = df_test.reset_index(drop=True)\n",
    "\n",
    "y_train = df_train.above_average.values\n",
    "y_val = df_val.above_average.values\n",
    "y_test = df_test.above_average.values\n",
    "\n",
    "del df_train[\"above_average\"] \n",
    "del df_val[\"above_average\"]\n",
    "del df_test[\"above_average\"] "
   ]
  },
  {
   "cell_type": "markdown",
   "id": "5a307dc5-4544-446c-9c19-6491eaacd92c",
   "metadata": {},
   "source": [
    "## Question 1: ROC AUC feature importance\n",
    "ROC AUC could also be used to evaluate feature importance of numerical variables.\n",
    "\n",
    "Let's do that\n",
    "\n",
    "For each numerical variable, use it as score and compute AUC with the above_average variable\n",
    "Use the training dataset for that\n",
    "If your AUC is < 0.5, invert this variable by putting \"-\" in front\n",
    "\n",
    "(e.g. -df_train['engine_hp'])\n",
    "\n",
    "AUC can go below 0.5 if the variable is negatively correlated with the target varialble. You can change the direction of the correlation by negating this variable - then negative correlation becomes positive.\n",
    "\n",
    "Which numerical variable (among the following 4) has the highest AUC?\n",
    "- <b>engine_hp</b>\n",
    "- engine_cylinders\n",
    "- highway_mpg\n",
    "- city_mpg"
   ]
  },
  {
   "cell_type": "code",
   "execution_count": 14,
   "id": "be484ff9-072a-4534-97fa-469761a02547",
   "metadata": {},
   "outputs": [
    {
     "data": {
      "text/html": [
       "<div>\n",
       "<style scoped>\n",
       "    .dataframe tbody tr th:only-of-type {\n",
       "        vertical-align: middle;\n",
       "    }\n",
       "\n",
       "    .dataframe tbody tr th {\n",
       "        vertical-align: top;\n",
       "    }\n",
       "\n",
       "    .dataframe thead th {\n",
       "        text-align: right;\n",
       "    }\n",
       "</style>\n",
       "<table border=\"1\" class=\"dataframe\">\n",
       "  <thead>\n",
       "    <tr style=\"text-align: right;\">\n",
       "      <th></th>\n",
       "      <th>make</th>\n",
       "      <th>model</th>\n",
       "      <th>year</th>\n",
       "      <th>engine_hp</th>\n",
       "      <th>engine_cylinders</th>\n",
       "      <th>transmission_type</th>\n",
       "      <th>vehicle_style</th>\n",
       "      <th>highway_mpg</th>\n",
       "      <th>city_mpg</th>\n",
       "      <th>msrp</th>\n",
       "    </tr>\n",
       "  </thead>\n",
       "  <tbody>\n",
       "    <tr>\n",
       "      <th>0</th>\n",
       "      <td>Toyota</td>\n",
       "      <td>Highlander Hybrid</td>\n",
       "      <td>2016</td>\n",
       "      <td>280.0</td>\n",
       "      <td>6.0</td>\n",
       "      <td>AUTOMATIC</td>\n",
       "      <td>4dr SUV</td>\n",
       "      <td>28</td>\n",
       "      <td>27</td>\n",
       "      <td>50485</td>\n",
       "    </tr>\n",
       "    <tr>\n",
       "      <th>1</th>\n",
       "      <td>Chevrolet</td>\n",
       "      <td>Impala Limited</td>\n",
       "      <td>2014</td>\n",
       "      <td>300.0</td>\n",
       "      <td>6.0</td>\n",
       "      <td>AUTOMATIC</td>\n",
       "      <td>Sedan</td>\n",
       "      <td>30</td>\n",
       "      <td>18</td>\n",
       "      <td>26840</td>\n",
       "    </tr>\n",
       "    <tr>\n",
       "      <th>2</th>\n",
       "      <td>Buick</td>\n",
       "      <td>Regal</td>\n",
       "      <td>2016</td>\n",
       "      <td>259.0</td>\n",
       "      <td>4.0</td>\n",
       "      <td>AUTOMATIC</td>\n",
       "      <td>Sedan</td>\n",
       "      <td>27</td>\n",
       "      <td>19</td>\n",
       "      <td>36490</td>\n",
       "    </tr>\n",
       "    <tr>\n",
       "      <th>3</th>\n",
       "      <td>Volkswagen</td>\n",
       "      <td>CC</td>\n",
       "      <td>2015</td>\n",
       "      <td>280.0</td>\n",
       "      <td>6.0</td>\n",
       "      <td>AUTOMATED_MANUAL</td>\n",
       "      <td>Sedan</td>\n",
       "      <td>25</td>\n",
       "      <td>17</td>\n",
       "      <td>43575</td>\n",
       "    </tr>\n",
       "    <tr>\n",
       "      <th>4</th>\n",
       "      <td>Dodge</td>\n",
       "      <td>Grand Caravan</td>\n",
       "      <td>2016</td>\n",
       "      <td>283.0</td>\n",
       "      <td>6.0</td>\n",
       "      <td>AUTOMATIC</td>\n",
       "      <td>Passenger Minivan</td>\n",
       "      <td>25</td>\n",
       "      <td>17</td>\n",
       "      <td>22595</td>\n",
       "    </tr>\n",
       "    <tr>\n",
       "      <th>...</th>\n",
       "      <td>...</td>\n",
       "      <td>...</td>\n",
       "      <td>...</td>\n",
       "      <td>...</td>\n",
       "      <td>...</td>\n",
       "      <td>...</td>\n",
       "      <td>...</td>\n",
       "      <td>...</td>\n",
       "      <td>...</td>\n",
       "      <td>...</td>\n",
       "    </tr>\n",
       "    <tr>\n",
       "      <th>7143</th>\n",
       "      <td>Subaru</td>\n",
       "      <td>Impreza</td>\n",
       "      <td>2015</td>\n",
       "      <td>148.0</td>\n",
       "      <td>4.0</td>\n",
       "      <td>MANUAL</td>\n",
       "      <td>4dr Hatchback</td>\n",
       "      <td>33</td>\n",
       "      <td>24</td>\n",
       "      <td>20995</td>\n",
       "    </tr>\n",
       "    <tr>\n",
       "      <th>7144</th>\n",
       "      <td>Infiniti</td>\n",
       "      <td>QX50</td>\n",
       "      <td>2016</td>\n",
       "      <td>325.0</td>\n",
       "      <td>6.0</td>\n",
       "      <td>AUTOMATIC</td>\n",
       "      <td>4dr SUV</td>\n",
       "      <td>24</td>\n",
       "      <td>17</td>\n",
       "      <td>35850</td>\n",
       "    </tr>\n",
       "    <tr>\n",
       "      <th>7145</th>\n",
       "      <td>Honda</td>\n",
       "      <td>Fit</td>\n",
       "      <td>2017</td>\n",
       "      <td>130.0</td>\n",
       "      <td>4.0</td>\n",
       "      <td>AUTOMATIC</td>\n",
       "      <td>4dr Hatchback</td>\n",
       "      <td>37</td>\n",
       "      <td>32</td>\n",
       "      <td>20265</td>\n",
       "    </tr>\n",
       "    <tr>\n",
       "      <th>7146</th>\n",
       "      <td>Audi</td>\n",
       "      <td>200</td>\n",
       "      <td>1991</td>\n",
       "      <td>162.0</td>\n",
       "      <td>5.0</td>\n",
       "      <td>AUTOMATIC</td>\n",
       "      <td>Sedan</td>\n",
       "      <td>20</td>\n",
       "      <td>16</td>\n",
       "      <td>2000</td>\n",
       "    </tr>\n",
       "    <tr>\n",
       "      <th>7147</th>\n",
       "      <td>Infiniti</td>\n",
       "      <td>QX4</td>\n",
       "      <td>2003</td>\n",
       "      <td>240.0</td>\n",
       "      <td>6.0</td>\n",
       "      <td>AUTOMATIC</td>\n",
       "      <td>4dr SUV</td>\n",
       "      <td>18</td>\n",
       "      <td>14</td>\n",
       "      <td>36150</td>\n",
       "    </tr>\n",
       "  </tbody>\n",
       "</table>\n",
       "<p>7148 rows × 10 columns</p>\n",
       "</div>"
      ],
      "text/plain": [
       "            make              model  year  engine_hp  engine_cylinders  \\\n",
       "0         Toyota  Highlander Hybrid  2016      280.0               6.0   \n",
       "1      Chevrolet     Impala Limited  2014      300.0               6.0   \n",
       "2          Buick              Regal  2016      259.0               4.0   \n",
       "3     Volkswagen                 CC  2015      280.0               6.0   \n",
       "4          Dodge      Grand Caravan  2016      283.0               6.0   \n",
       "...          ...                ...   ...        ...               ...   \n",
       "7143      Subaru            Impreza  2015      148.0               4.0   \n",
       "7144    Infiniti               QX50  2016      325.0               6.0   \n",
       "7145       Honda                Fit  2017      130.0               4.0   \n",
       "7146        Audi                200  1991      162.0               5.0   \n",
       "7147    Infiniti                QX4  2003      240.0               6.0   \n",
       "\n",
       "     transmission_type      vehicle_style  highway_mpg  city_mpg   msrp  \n",
       "0            AUTOMATIC            4dr SUV           28        27  50485  \n",
       "1            AUTOMATIC              Sedan           30        18  26840  \n",
       "2            AUTOMATIC              Sedan           27        19  36490  \n",
       "3     AUTOMATED_MANUAL              Sedan           25        17  43575  \n",
       "4            AUTOMATIC  Passenger Minivan           25        17  22595  \n",
       "...                ...                ...          ...       ...    ...  \n",
       "7143            MANUAL      4dr Hatchback           33        24  20995  \n",
       "7144         AUTOMATIC            4dr SUV           24        17  35850  \n",
       "7145         AUTOMATIC      4dr Hatchback           37        32  20265  \n",
       "7146         AUTOMATIC              Sedan           20        16   2000  \n",
       "7147         AUTOMATIC            4dr SUV           18        14  36150  \n",
       "\n",
       "[7148 rows x 10 columns]"
      ]
     },
     "execution_count": 14,
     "metadata": {},
     "output_type": "execute_result"
    }
   ],
   "source": [
    "df_train"
   ]
  },
  {
   "cell_type": "code",
   "execution_count": 11,
   "id": "62b9e0d8-5256-4270-88c4-cc16dfa3b819",
   "metadata": {},
   "outputs": [
    {
     "data": {
      "text/plain": [
       "81"
      ]
     },
     "execution_count": 11,
     "metadata": {},
     "output_type": "execute_result"
    }
   ],
   "source": [
    "np.correlate(y_train, df_train[c])[0]"
   ]
  },
  {
   "cell_type": "code",
   "execution_count": 15,
   "id": "84593ffa-b8f7-4ce6-8a2f-a1b075873dd7",
   "metadata": {},
   "outputs": [],
   "source": [
    "aucs = {}\n",
    "numeric_cols = [c for c in df_train.columns if c not in [\"make\",\"model\",\"year\",\"transmission_type\",\"vehicle_style\",\"msrp\"]]\n",
    "for c in numeric_cols:\n",
    "    feature_auc = roc_auc_score(y_train, df_train[c])\n",
    "    feature_corr = np.corrcoef(y_train, df_train[c])\n",
    "    if feature_auc < 0.5:\n",
    "            feature_auc = roc_auc_score(y_train, -df_train[c])\n",
    "    aucs[c] = [feature_auc, abs(feature_corr[0][1])]\n",
    "    "
   ]
  },
  {
   "cell_type": "code",
   "execution_count": 16,
   "id": "f28b3d85-f55c-483d-8e28-ebcd039ce361",
   "metadata": {},
   "outputs": [],
   "source": [
    "results = pd.DataFrame(aucs).T\n",
    "results.columns = [\"AUC\",\"COR_abs\"]"
   ]
  },
  {
   "cell_type": "code",
   "execution_count": 17,
   "id": "4fbe25c4-8a36-469c-8b42-674d1f110176",
   "metadata": {},
   "outputs": [
    {
     "data": {
      "text/html": [
       "<style type=\"text/css\">\n",
       "#T_7f8f8_row0_col0, #T_7f8f8_row0_col1 {\n",
       "  background-color: #023858;\n",
       "  color: #f1f1f1;\n",
       "}\n",
       "#T_7f8f8_row1_col0 {\n",
       "  background-color: #81aed2;\n",
       "  color: #f1f1f1;\n",
       "}\n",
       "#T_7f8f8_row1_col1 {\n",
       "  background-color: #4094c3;\n",
       "  color: #f1f1f1;\n",
       "}\n",
       "#T_7f8f8_row2_col0 {\n",
       "  background-color: #e8e4f0;\n",
       "  color: #000000;\n",
       "}\n",
       "#T_7f8f8_row2_col1 {\n",
       "  background-color: #f8f1f8;\n",
       "  color: #000000;\n",
       "}\n",
       "#T_7f8f8_row3_col0, #T_7f8f8_row3_col1 {\n",
       "  background-color: #fff7fb;\n",
       "  color: #000000;\n",
       "}\n",
       "</style>\n",
       "<table id=\"T_7f8f8\">\n",
       "  <thead>\n",
       "    <tr>\n",
       "      <th class=\"blank level0\" >&nbsp;</th>\n",
       "      <th id=\"T_7f8f8_level0_col0\" class=\"col_heading level0 col0\" >AUC</th>\n",
       "      <th id=\"T_7f8f8_level0_col1\" class=\"col_heading level0 col1\" >COR_abs</th>\n",
       "    </tr>\n",
       "  </thead>\n",
       "  <tbody>\n",
       "    <tr>\n",
       "      <th id=\"T_7f8f8_level0_row0\" class=\"row_heading level0 row0\" >engine_hp</th>\n",
       "      <td id=\"T_7f8f8_row0_col0\" class=\"data row0 col0\" >0.917103</td>\n",
       "      <td id=\"T_7f8f8_row0_col1\" class=\"data row0 col1\" >0.661713</td>\n",
       "    </tr>\n",
       "    <tr>\n",
       "      <th id=\"T_7f8f8_level0_row1\" class=\"row_heading level0 row1\" >engine_cylinders</th>\n",
       "      <td id=\"T_7f8f8_row1_col0\" class=\"data row1 col0\" >0.766116</td>\n",
       "      <td id=\"T_7f8f8_row1_col1\" class=\"data row1 col1\" >0.451418</td>\n",
       "    </tr>\n",
       "    <tr>\n",
       "      <th id=\"T_7f8f8_level0_row2\" class=\"row_heading level0 row2\" >city_mpg</th>\n",
       "      <td id=\"T_7f8f8_row2_col0\" class=\"data row2 col0\" >0.673424</td>\n",
       "      <td id=\"T_7f8f8_row2_col1\" class=\"data row2 col1\" >0.155487</td>\n",
       "    </tr>\n",
       "    <tr>\n",
       "      <th id=\"T_7f8f8_level0_row3\" class=\"row_heading level0 row3\" >highway_mpg</th>\n",
       "      <td id=\"T_7f8f8_row3_col0\" class=\"data row3 col0\" >0.633059</td>\n",
       "      <td id=\"T_7f8f8_row3_col1\" class=\"data row3 col1\" >0.132043</td>\n",
       "    </tr>\n",
       "  </tbody>\n",
       "</table>\n"
      ],
      "text/plain": [
       "<pandas.io.formats.style.Styler at 0x7f0d9173f8e0>"
      ]
     },
     "execution_count": 17,
     "metadata": {},
     "output_type": "execute_result"
    }
   ],
   "source": [
    "results.sort_values(by=\"AUC\", ascending=False).style.background_gradient(axis=0)  "
   ]
  },
  {
   "cell_type": "markdown",
   "id": "10271d67-b6e8-49ec-979e-0a20e0952d3c",
   "metadata": {},
   "source": [
    "Correlation shows linear relation while AUC detect also non-linear one so it may be useful for non-linear models.\n",
    "- But logistic regression is linear underneath, so here it may be misleading (?)"
   ]
  },
  {
   "cell_type": "markdown",
   "id": "b0b45681-67ef-43be-8101-152d54aacf4b",
   "metadata": {},
   "source": [
    "#### ROC AUC"
   ]
  },
  {
   "cell_type": "code",
   "execution_count": 18,
   "id": "4703f4d2-07e1-45b7-a1d0-75369f137b45",
   "metadata": {},
   "outputs": [
    {
     "data": {
      "text/plain": [
       "1.0"
      ]
     },
     "execution_count": 18,
     "metadata": {},
     "output_type": "execute_result"
    }
   ],
   "source": [
    "roc_auc_score([0,0,0,0,1,1,1,1], [0,0,0,0,1,1,1,1])"
   ]
  },
  {
   "cell_type": "code",
   "execution_count": 19,
   "id": "c34f2421-2f1c-4b84-b24a-8911d5fd9bfa",
   "metadata": {},
   "outputs": [
    {
     "data": {
      "text/plain": [
       "0.5"
      ]
     },
     "execution_count": 19,
     "metadata": {},
     "output_type": "execute_result"
    }
   ],
   "source": [
    "roc_auc_score([0,0,0,0,1,1,1,1], [0,1,0,1,0,1,0,1])"
   ]
  },
  {
   "cell_type": "code",
   "execution_count": 20,
   "id": "4ad003a8-2713-40e0-a83e-cec0dce81c66",
   "metadata": {},
   "outputs": [
    {
     "data": {
      "text/plain": [
       "1.0"
      ]
     },
     "execution_count": 20,
     "metadata": {},
     "output_type": "execute_result"
    }
   ],
   "source": [
    "roc_auc_score([0,0,0,0,1,1,1,1], [10,20,30,40,50,60,70,80])"
   ]
  },
  {
   "cell_type": "code",
   "execution_count": 21,
   "id": "fe216e04-f576-4799-9b53-bdae3e01e848",
   "metadata": {},
   "outputs": [
    {
     "data": {
      "text/plain": [
       "1.0"
      ]
     },
     "execution_count": 21,
     "metadata": {},
     "output_type": "execute_result"
    }
   ],
   "source": [
    "roc_auc_score([0,0,0,0,1,1,1,1], [10,20,30,40,45,46,47,48])"
   ]
  },
  {
   "cell_type": "markdown",
   "id": "e972a4f6-9ef1-4ef8-a65b-5b5e6d430e85",
   "metadata": {},
   "source": [
    "#### Correlation"
   ]
  },
  {
   "cell_type": "code",
   "execution_count": 22,
   "id": "c880b185-56ce-4d1c-a656-a8a17941ea2f",
   "metadata": {},
   "outputs": [
    {
     "data": {
      "text/plain": [
       "0.8728715609439693"
      ]
     },
     "execution_count": 22,
     "metadata": {},
     "output_type": "execute_result"
    }
   ],
   "source": [
    "np.corrcoef([0,0,0,0,1,1,1,1], [10,20,30,40,50,60,70,80])[0][1]"
   ]
  },
  {
   "cell_type": "code",
   "execution_count": 23,
   "id": "c36c40dd-8b8c-4f9b-8ef8-d0aab613e10a",
   "metadata": {},
   "outputs": [
    {
     "data": {
      "text/plain": [
       "0.804195017233548"
      ]
     },
     "execution_count": 23,
     "metadata": {},
     "output_type": "execute_result"
    }
   ],
   "source": [
    "np.corrcoef([0,0,0,0,1,1,1,1], [10,20,30,40,45,46,47,48])[0][1]"
   ]
  },
  {
   "cell_type": "markdown",
   "id": "e6306dc8-2fef-4187-b565-ca09221d1c08",
   "metadata": {},
   "source": [
    "## Question 2: Training the model\n",
    "Apply one-hot-encoding using DictVectorizer and train the logistic regression with these parameters:\n",
    "\n",
    "LogisticRegression(solver='liblinear', C=1.0, max_iter=1000)<br>\n",
    "What's the AUC of this model on the validation dataset? (round to 3 digits)\n",
    "- 0.678\n",
    "- 0.779\n",
    "- 0.878\n",
    "- <b>0.979</b>"
   ]
  },
  {
   "cell_type": "code",
   "execution_count": 26,
   "id": "357b195c-eab1-4869-b187-7069fa057966",
   "metadata": {},
   "outputs": [],
   "source": [
    "cols = ['make', 'model', 'year', 'engine_hp', 'engine_cylinders',\n",
    "       'transmission_type', 'vehicle_style', 'highway_mpg', 'city_mpg']"
   ]
  },
  {
   "cell_type": "code",
   "execution_count": 31,
   "id": "e7535bd1-17f1-4f09-a4bb-5fee927f9e10",
   "metadata": {},
   "outputs": [
    {
     "data": {
      "text/plain": [
       "0.98"
      ]
     },
     "execution_count": 31,
     "metadata": {},
     "output_type": "execute_result"
    }
   ],
   "source": [
    "train_dict = df_train[cols].to_dict(orient='records')\n",
    "dv = DictVectorizer(sparse=False)\n",
    "dv.fit(train_dict)\n",
    "X_train = dv.transform(train_dict)\n",
    "\n",
    "model = LogisticRegression(solver='liblinear', C=1.0, max_iter=1000)\n",
    "model.fit(X_train, y_train)\n",
    "\n",
    "val_dict = df_val[cols].to_dict(orient='records')\n",
    "X_val = dv.transform(val_dict)\n",
    "y_pred = model.predict_proba(X_val)[:,1]\n",
    "\n",
    "accuracy = roc_auc_score(y_val, y_pred)\n",
    "np.round(accuracy,3)"
   ]
  },
  {
   "cell_type": "code",
   "execution_count": 34,
   "id": "0dfc9603-55d0-4241-bbe9-18e354012ee9",
   "metadata": {},
   "outputs": [
    {
     "data": {
      "image/png": "[encoded data removed]",
      "text/plain": [
       "<Figure size 500x500 with 1 Axes>"
      ]
     },
     "metadata": {},
     "output_type": "display_data"
    }
   ],
   "source": [
    "plt.figure(figsize=(5, 5))\n",
    "\n",
    "fpr, tpr, _ = roc_curve(y_train, df_train.engine_hp)\n",
    "plt.plot(fpr, tpr, label='engine_hp')\n",
    "\n",
    "plt.plot([0, 1], [0, 1], color='grey', linestyle='--')\n",
    "plt.title(\"AUC target vs engine_hp\")\n",
    "plt.legend()\n",
    "plt.show()"
   ]
  },
  {
   "cell_type": "markdown",
   "id": "678c30fc-4b46-4bb5-9b28-962d4cc580f4",
   "metadata": {},
   "source": [
    "## Question 3: Precision and Recall\n",
    "Now let's compute precision and recall for our model.<br>\n",
    "\n",
    "Evaluate the model on all thresholds from 0.0 to 1.0 with step 0.01<br>\n",
    "For each threshold, compute precision and recall<r>\n",
    "Plot them<br>\n",
    "At which threshold precision and recall curves intersect?\n",
    "- 0.28\n",
    "- <b>0.48</b>\n",
    "- 0.68\n",
    "- 0.88\n"
   ]
  },
  {
   "cell_type": "code",
   "execution_count": 35,
   "id": "07826932-d228-434f-bb02-7350ea1abc99",
   "metadata": {},
   "outputs": [
    {
     "data": {
      "text/plain": [
       "array([0.  , 0.01, 0.02, 0.03, 0.04, 0.05, 0.06, 0.07, 0.08, 0.09, 0.1 ,\n",
       "       0.11, 0.12, 0.13, 0.14, 0.15, 0.16, 0.17, 0.18, 0.19, 0.2 , 0.21,\n",
       "       0.22, 0.23, 0.24, 0.25, 0.26, 0.27, 0.28, 0.29, 0.3 , 0.31, 0.32,\n",
       "       0.33, 0.34, 0.35, 0.36, 0.37, 0.38, 0.39, 0.4 , 0.41, 0.42, 0.43,\n",
       "       0.44, 0.45, 0.46, 0.47, 0.48, 0.49, 0.5 , 0.51, 0.52, 0.53, 0.54,\n",
       "       0.55, 0.56, 0.57, 0.58, 0.59, 0.6 , 0.61, 0.62, 0.63, 0.64, 0.65,\n",
       "       0.66, 0.67, 0.68, 0.69, 0.7 , 0.71, 0.72, 0.73, 0.74, 0.75, 0.76,\n",
       "       0.77, 0.78, 0.79, 0.8 , 0.81, 0.82, 0.83, 0.84, 0.85, 0.86, 0.87,\n",
       "       0.88, 0.89, 0.9 , 0.91, 0.92, 0.93, 0.94, 0.95, 0.96, 0.97, 0.98,\n",
       "       0.99])"
      ]
     },
     "execution_count": 35,
     "metadata": {},
     "output_type": "execute_result"
    }
   ],
   "source": [
    "thrs = np.linspace(0,0.99,100)\n",
    "thrs"
   ]
  },
  {
   "cell_type": "code",
   "execution_count": 36,
   "id": "8f51ceec-8d9e-4438-bcd5-629d2a16f081",
   "metadata": {},
   "outputs": [],
   "source": [
    "precision_recall = {}\n",
    "for t in thrs:\n",
    "    precision = precision_score(y_val, y_pred>t)\n",
    "    recall = recall_score(y_val, y_pred>t)\n",
    "    precision_recall[t] = [precision, recall]"
   ]
  },
  {
   "cell_type": "code",
   "execution_count": 37,
   "id": "62d544a5-4c9e-4f2b-a76f-e8833548ae13",
   "metadata": {},
   "outputs": [],
   "source": [
    "df_p_r = pd.DataFrame(precision_recall).T\n",
    "df_p_r.columns = [\"precision\", \"recall\"]"
   ]
  },
  {
   "cell_type": "code",
   "execution_count": 38,
   "id": "667562e9-7bcc-4905-86b9-323d60e5fc22",
   "metadata": {},
   "outputs": [
    {
     "data": {
      "text/plain": [
       "<Figure size 600x600 with 0 Axes>"
      ]
     },
     "metadata": {},
     "output_type": "display_data"
    },
    {
     "data": {
      "image/png": "[encoded data removed]",
      "text/plain": [
       "<Figure size 640x480 with 1 Axes>"
      ]
     },
     "metadata": {},
     "output_type": "display_data"
    }
   ],
   "source": [
    "plt.figure(figsize=(6, 6));\n",
    "df_p_r.plot();\n",
    "plt.title(\"Precision and Recall for different thresholds\");"
   ]
  },
  {
   "cell_type": "code",
   "execution_count": 40,
   "id": "12a24404-d7a3-49c0-a93b-ea1eccc8ddae",
   "metadata": {},
   "outputs": [
    {
     "data": {
      "text/html": [
       "<div>\n",
       "<style scoped>\n",
       "    .dataframe tbody tr th:only-of-type {\n",
       "        vertical-align: middle;\n",
       "    }\n",
       "\n",
       "    .dataframe tbody tr th {\n",
       "        vertical-align: top;\n",
       "    }\n",
       "\n",
       "    .dataframe thead th {\n",
       "        text-align: right;\n",
       "    }\n",
       "</style>\n",
       "<table border=\"1\" class=\"dataframe\">\n",
       "  <thead>\n",
       "    <tr style=\"text-align: right;\">\n",
       "      <th></th>\n",
       "      <th>precision</th>\n",
       "      <th>recall</th>\n",
       "    </tr>\n",
       "  </thead>\n",
       "  <tbody>\n",
       "    <tr>\n",
       "      <th>0.00</th>\n",
       "      <td>0.274444</td>\n",
       "      <td>1.000000</td>\n",
       "    </tr>\n",
       "    <tr>\n",
       "      <th>0.01</th>\n",
       "      <td>0.458509</td>\n",
       "      <td>0.996942</td>\n",
       "    </tr>\n",
       "    <tr>\n",
       "      <th>0.02</th>\n",
       "      <td>0.506615</td>\n",
       "      <td>0.995413</td>\n",
       "    </tr>\n",
       "    <tr>\n",
       "      <th>0.03</th>\n",
       "      <td>0.540249</td>\n",
       "      <td>0.995413</td>\n",
       "    </tr>\n",
       "    <tr>\n",
       "      <th>0.04</th>\n",
       "      <td>0.573698</td>\n",
       "      <td>0.993884</td>\n",
       "    </tr>\n",
       "    <tr>\n",
       "      <th>...</th>\n",
       "      <td>...</td>\n",
       "      <td>...</td>\n",
       "    </tr>\n",
       "    <tr>\n",
       "      <th>0.95</th>\n",
       "      <td>0.996689</td>\n",
       "      <td>0.460245</td>\n",
       "    </tr>\n",
       "    <tr>\n",
       "      <th>0.96</th>\n",
       "      <td>0.996429</td>\n",
       "      <td>0.426606</td>\n",
       "    </tr>\n",
       "    <tr>\n",
       "      <th>0.97</th>\n",
       "      <td>0.996198</td>\n",
       "      <td>0.400612</td>\n",
       "    </tr>\n",
       "    <tr>\n",
       "      <th>0.98</th>\n",
       "      <td>1.000000</td>\n",
       "      <td>0.359327</td>\n",
       "    </tr>\n",
       "    <tr>\n",
       "      <th>0.99</th>\n",
       "      <td>1.000000</td>\n",
       "      <td>0.305810</td>\n",
       "    </tr>\n",
       "  </tbody>\n",
       "</table>\n",
       "<p>100 rows × 2 columns</p>\n",
       "</div>"
      ],
      "text/plain": [
       "      precision    recall\n",
       "0.00   0.274444  1.000000\n",
       "0.01   0.458509  0.996942\n",
       "0.02   0.506615  0.995413\n",
       "0.03   0.540249  0.995413\n",
       "0.04   0.573698  0.993884\n",
       "...         ...       ...\n",
       "0.95   0.996689  0.460245\n",
       "0.96   0.996429  0.426606\n",
       "0.97   0.996198  0.400612\n",
       "0.98   1.000000  0.359327\n",
       "0.99   1.000000  0.305810\n",
       "\n",
       "[100 rows x 2 columns]"
      ]
     },
     "execution_count": 40,
     "metadata": {},
     "output_type": "execute_result"
    }
   ],
   "source": [
    "df_p_r"
   ]
  },
  {
   "cell_type": "code",
   "execution_count": 50,
   "id": "2c1d3417-04c6-44aa-98e8-071280d49db4",
   "metadata": {},
   "outputs": [
    {
     "data": {
      "text/html": [
       "<div>\n",
       "<style scoped>\n",
       "    .dataframe tbody tr th:only-of-type {\n",
       "        vertical-align: middle;\n",
       "    }\n",
       "\n",
       "    .dataframe tbody tr th {\n",
       "        vertical-align: top;\n",
       "    }\n",
       "\n",
       "    .dataframe thead th {\n",
       "        text-align: right;\n",
       "    }\n",
       "</style>\n",
       "<table border=\"1\" class=\"dataframe\">\n",
       "  <thead>\n",
       "    <tr style=\"text-align: right;\">\n",
       "      <th></th>\n",
       "      <th>precision</th>\n",
       "      <th>recall</th>\n",
       "    </tr>\n",
       "  </thead>\n",
       "  <tbody>\n",
       "    <tr>\n",
       "      <th>0.47</th>\n",
       "      <td>0.878788</td>\n",
       "      <td>0.886850</td>\n",
       "    </tr>\n",
       "    <tr>\n",
       "      <th>0.48</th>\n",
       "      <td>0.886503</td>\n",
       "      <td>0.883792</td>\n",
       "    </tr>\n",
       "  </tbody>\n",
       "</table>\n",
       "</div>"
      ],
      "text/plain": [
       "      precision    recall\n",
       "0.47   0.878788  0.886850\n",
       "0.48   0.886503  0.883792"
      ]
     },
     "execution_count": 50,
     "metadata": {},
     "output_type": "execute_result"
    }
   ],
   "source": [
    "df_p_r.loc[abs(df_p_r.precision - df_p_r.recall) < 0.01]"
   ]
  },
  {
   "cell_type": "markdown",
   "id": "731e262e-d90e-4276-a281-44e079ced30d",
   "metadata": {},
   "source": [
    "##### Answer: Precision and recall intersect for thresholds about 0.475"
   ]
  },
  {
   "cell_type": "markdown",
   "id": "2f37a060-0dd5-412f-8b80-ff3daab2aca7",
   "metadata": {},
   "source": [
    "## Question 4: F1 score\n",
    "Precision and recall are conflicting - when one grows, the other goes down. That's why they are often combined into the F1 score - a metrics that takes into account both<br>\n",
    "\n",
    "This is the formula for computing <br>\n",
    "F1 = 2 * P * R / ( P + R )\n",
    "Where <br>\n",
    "P is precision and<br> \n",
    "R is recall.<br>\n",
    "\n",
    "Let's compute F1 for all thresholds from 0.0 to 1.0 with increment 0.01<br>\n",
    "\n",
    "At which threshold F1 is maximal?<br>\n",
    "- 0.12\n",
    "- 0.32\n",
    "- <b>0.52</b>\n",
    "- 0.72"
   ]
  },
  {
   "cell_type": "code",
   "execution_count": 51,
   "id": "167b4dec-dce6-4a43-a585-0dc9b95bb380",
   "metadata": {},
   "outputs": [],
   "source": [
    "df_p_r[\"f1_score\"] = 2 * df_p_r.precision * df_p_r.recall * (df_p_r.precision + df_p_r.recall)"
   ]
  },
  {
   "cell_type": "code",
   "execution_count": 52,
   "id": "1502c7b1-e7f5-4ca4-821d-0a4076baa016",
   "metadata": {},
   "outputs": [
    {
     "data": {
      "image/png": "[encoded data removed]",
      "text/plain": [
       "<Figure size 640x480 with 1 Axes>"
      ]
     },
     "metadata": {},
     "output_type": "display_data"
    }
   ],
   "source": [
    "df_p_r.f1_score.plot();"
   ]
  },
  {
   "cell_type": "code",
   "execution_count": 54,
   "id": "0b42b75e-9f2a-4333-ae95-1b06322cef81",
   "metadata": {},
   "outputs": [
    {
     "data": {
      "text/html": [
       "<div>\n",
       "<style scoped>\n",
       "    .dataframe tbody tr th:only-of-type {\n",
       "        vertical-align: middle;\n",
       "    }\n",
       "\n",
       "    .dataframe tbody tr th {\n",
       "        vertical-align: top;\n",
       "    }\n",
       "\n",
       "    .dataframe thead th {\n",
       "        text-align: right;\n",
       "    }\n",
       "</style>\n",
       "<table border=\"1\" class=\"dataframe\">\n",
       "  <thead>\n",
       "    <tr style=\"text-align: right;\">\n",
       "      <th></th>\n",
       "      <th>precision</th>\n",
       "      <th>recall</th>\n",
       "      <th>f1_score</th>\n",
       "    </tr>\n",
       "  </thead>\n",
       "  <tbody>\n",
       "    <tr>\n",
       "      <th>0.49</th>\n",
       "      <td>0.891473</td>\n",
       "      <td>0.879205</td>\n",
       "      <td>2.775670</td>\n",
       "    </tr>\n",
       "    <tr>\n",
       "      <th>0.48</th>\n",
       "      <td>0.886503</td>\n",
       "      <td>0.883792</td>\n",
       "      <td>2.773997</td>\n",
       "    </tr>\n",
       "    <tr>\n",
       "      <th>0.45</th>\n",
       "      <td>0.875749</td>\n",
       "      <td>0.894495</td>\n",
       "      <td>2.773452</td>\n",
       "    </tr>\n",
       "    <tr>\n",
       "      <th>0.51</th>\n",
       "      <td>0.901587</td>\n",
       "      <td>0.868502</td>\n",
       "      <td>2.772065</td>\n",
       "    </tr>\n",
       "    <tr>\n",
       "      <th>0.52</th>\n",
       "      <td>0.902711</td>\n",
       "      <td>0.865443</td>\n",
       "      <td>2.762726</td>\n",
       "    </tr>\n",
       "    <tr>\n",
       "      <th>0.46</th>\n",
       "      <td>0.876506</td>\n",
       "      <td>0.889908</td>\n",
       "      <td>2.755641</td>\n",
       "    </tr>\n",
       "    <tr>\n",
       "      <th>0.53</th>\n",
       "      <td>0.903846</td>\n",
       "      <td>0.862385</td>\n",
       "      <td>2.753426</td>\n",
       "    </tr>\n",
       "    <tr>\n",
       "      <th>0.47</th>\n",
       "      <td>0.878788</td>\n",
       "      <td>0.886850</td>\n",
       "      <td>2.752111</td>\n",
       "    </tr>\n",
       "    <tr>\n",
       "      <th>0.54</th>\n",
       "      <td>0.906452</td>\n",
       "      <td>0.859327</td>\n",
       "      <td>2.750866</td>\n",
       "    </tr>\n",
       "    <tr>\n",
       "      <th>0.44</th>\n",
       "      <td>0.869436</td>\n",
       "      <td>0.896024</td>\n",
       "      <td>2.750715</td>\n",
       "    </tr>\n",
       "  </tbody>\n",
       "</table>\n",
       "</div>"
      ],
      "text/plain": [
       "      precision    recall  f1_score\n",
       "0.49   0.891473  0.879205  2.775670\n",
       "0.48   0.886503  0.883792  2.773997\n",
       "0.45   0.875749  0.894495  2.773452\n",
       "0.51   0.901587  0.868502  2.772065\n",
       "0.52   0.902711  0.865443  2.762726\n",
       "0.46   0.876506  0.889908  2.755641\n",
       "0.53   0.903846  0.862385  2.753426\n",
       "0.47   0.878788  0.886850  2.752111\n",
       "0.54   0.906452  0.859327  2.750866\n",
       "0.44   0.869436  0.896024  2.750715"
      ]
     },
     "execution_count": 54,
     "metadata": {},
     "output_type": "execute_result"
    }
   ],
   "source": [
    "df_p_r.sort_values(by=[\"f1_score\"], ascending=False).head(10)"
   ]
  },
  {
   "cell_type": "markdown",
   "id": "8aff93ed-dcaa-423a-a42a-8a7f52116ad0",
   "metadata": {},
   "source": [
    "##### Answer: F1 score is the highest for threshold about 0.49"
   ]
  },
  {
   "cell_type": "markdown",
   "id": "841ae51f-f5dc-431b-b7a8-acabe26cac43",
   "metadata": {},
   "source": [
    "## Question 5: 5-Fold CV\n",
    "Use the KFold class from Scikit-Learn to evaluate our model on 5 different folds:<br>\n",
    "\n",
    "KFold(n_splits=5, shuffle=True, random_state=1)<br>\n",
    "Iterate over different folds of df_full_train<br>\n",
    "Split the data into train and validation<br>\n",
    "Train the model on train with these parameters: LogisticRegression(solver='liblinear', C=1.0, max_iter=1000)<br>\n",
    "Use AUC to evaluate the model on validation<br>\n",
    "How large is standard devidation of the scores across different folds?\n",
    "- <b>0.003</b>\n",
    "- 0.030\n",
    "- 0.090\n",
    "- 0.140"
   ]
  },
  {
   "cell_type": "code",
   "execution_count": 61,
   "id": "75c2b222-3f48-448b-8ebd-59fdb3f054a0",
   "metadata": {},
   "outputs": [],
   "source": [
    "def train(df_train, y_train, c=1.0):\n",
    "    train_dict = df_train[cols].to_dict(orient='records')\n",
    "    dv = DictVectorizer(sparse=False)\n",
    "    dv.fit(train_dict)\n",
    "    X_train = dv.transform(train_dict)\n",
    "    \n",
    "    model = LogisticRegression(solver=\"liblinear\", C=c, max_iter=1000)\n",
    "    model.fit(X_train, y_train)\n",
    "    return dv, model\n",
    "\n",
    "def predict(df, dv, model):\n",
    "    dicts = df[cols].to_dict(orient='records')\n",
    "    X = dv.transform(dicts)\n",
    "    return model.predict_proba(X)[:,1]"
   ]
  },
  {
   "cell_type": "code",
   "execution_count": 62,
   "id": "c9f51b63-7993-446c-8c53-8e236601d594",
   "metadata": {},
   "outputs": [],
   "source": [
    "dv, model = train(df_train, y_train)\n",
    "y_pred = predict(df_val, dv, model)"
   ]
  },
  {
   "cell_type": "code",
   "execution_count": 63,
   "id": "c572a37d-0a19-4fd8-ac0d-b346b0263802",
   "metadata": {},
   "outputs": [
    {
     "name": "stdout",
     "output_type": "stream",
     "text": [
      "0.979 +- 0.002\n"
     ]
    }
   ],
   "source": [
    "scores = []\n",
    "\n",
    "kfold = KFold(n_splits=5, shuffle=True, random_state=1)\n",
    "\n",
    "for train_idx, val_idx in kfold.split(df_full):\n",
    "    df_train = df_full.iloc[train_idx]\n",
    "    df_val = df_full.iloc[val_idx]\n",
    "    \n",
    "    y_train = df_train.above_average\n",
    "    y_val = df_val.above_average\n",
    "    \n",
    "    dv, model = train(df_train, y_train)\n",
    "    y_pred = predict(df_val, dv, model)\n",
    "    \n",
    "    auc = roc_auc_score(y_val, y_pred)\n",
    "    scores.append(auc)\n",
    "\n",
    "print(f\"{np.mean(scores):0.3f} +- {np.std(scores):0.3f}\")"
   ]
  },
  {
   "cell_type": "markdown",
   "id": "56b77590-c5c8-4036-958e-a4ce0fcde8d7",
   "metadata": {},
   "source": [
    "## Question 6: Hyperparemeter Tuning\n",
    "Now let's use 5-Fold cross-validation to find the best parameter C<br>\n",
    "\n",
    "Iterate over the following C values: [0.01, 0.1, 0.5, 10]<br>\n",
    "Initialize KFold with the same parameters as previously<br>\n",
    "Use these parametes for the model: LogisticRegression(solver='liblinear', C=C, max_iter=1000)<br>\n",
    "Compute the mean score as well as the std (round the mean and std to 3 decimal digits)<br>\n",
    "Which C leads to the best mean score?\n",
    "- 0.01\n",
    "- 0.1\n",
    "- 0.5\n",
    "- <b>10</b>\n",
    "  \n",
    "If you have ties, select the score with the lowest std. If you still have ties, select the smallest C."
   ]
  },
  {
   "cell_type": "code",
   "execution_count": 66,
   "id": "222c0eea-c084-4a95-9449-7c89b968dbc8",
   "metadata": {},
   "outputs": [],
   "source": [
    "Cs = {}\n",
    "n_splits=5\n",
    "for c in [0.01, 0.1, 0.5, 10]:\n",
    "    scores = []\n",
    "\n",
    "    kfold = KFold(n_splits=n_splits, shuffle=True, random_state=1)\n",
    "    \n",
    "    for train_idx, val_idx in kfold.split(df_full):\n",
    "        df_train = df_full.iloc[train_idx]\n",
    "        df_val = df_full.iloc[val_idx]\n",
    "        \n",
    "        y_train = df_train.above_average\n",
    "        y_val = df_val.above_average\n",
    "        \n",
    "        dv, model = train(df_train, y_train, c)\n",
    "        y_pred = predict(df_val, dv, model)\n",
    "        \n",
    "        auc = roc_auc_score(y_val, y_pred)\n",
    "        scores.append(auc)\n",
    "    \n",
    "        Cs[c] = [np.mean(scores), np.std(scores)]"
   ]
  },
  {
   "cell_type": "code",
   "execution_count": 67,
   "id": "9dee7c22-5813-4640-931b-f0fdc1a39817",
   "metadata": {},
   "outputs": [],
   "source": [
    "final_scores = pd.DataFrame(Cs).T\n",
    "final_scores.columns = [\"auc_avg\", \"auc_std\"]"
   ]
  },
  {
   "cell_type": "code",
   "execution_count": 69,
   "id": "e0b2c272-d140-43e4-9e91-77b9cef38035",
   "metadata": {},
   "outputs": [
    {
     "data": {
      "text/html": [
       "<div>\n",
       "<style scoped>\n",
       "    .dataframe tbody tr th:only-of-type {\n",
       "        vertical-align: middle;\n",
       "    }\n",
       "\n",
       "    .dataframe tbody tr th {\n",
       "        vertical-align: top;\n",
       "    }\n",
       "\n",
       "    .dataframe thead th {\n",
       "        text-align: right;\n",
       "    }\n",
       "</style>\n",
       "<table border=\"1\" class=\"dataframe\">\n",
       "  <thead>\n",
       "    <tr style=\"text-align: right;\">\n",
       "      <th></th>\n",
       "      <th>auc_avg</th>\n",
       "      <th>auc_std</th>\n",
       "    </tr>\n",
       "  </thead>\n",
       "  <tbody>\n",
       "    <tr>\n",
       "      <th>10.00</th>\n",
       "      <td>0.981</td>\n",
       "      <td>0.003</td>\n",
       "    </tr>\n",
       "    <tr>\n",
       "      <th>0.50</th>\n",
       "      <td>0.977</td>\n",
       "      <td>0.002</td>\n",
       "    </tr>\n",
       "    <tr>\n",
       "      <th>0.10</th>\n",
       "      <td>0.972</td>\n",
       "      <td>0.002</td>\n",
       "    </tr>\n",
       "    <tr>\n",
       "      <th>0.01</th>\n",
       "      <td>0.952</td>\n",
       "      <td>0.003</td>\n",
       "    </tr>\n",
       "  </tbody>\n",
       "</table>\n",
       "</div>"
      ],
      "text/plain": [
       "       auc_avg  auc_std\n",
       "10.00    0.981    0.003\n",
       "0.50     0.977    0.002\n",
       "0.10     0.972    0.002\n",
       "0.01     0.952    0.003"
      ]
     },
     "execution_count": 69,
     "metadata": {},
     "output_type": "execute_result"
    }
   ],
   "source": [
    "final_scores.sort_values(by=\"auc_avg\", ascending=False).round(3)"
   ]
  }
 ],
 "metadata": {
  "kernelspec": {
   "display_name": "Python 3 (ipykernel)",
   "language": "python",
   "name": "python3"
  },
  "language_info": {
   "codemirror_mode": {
    "name": "ipython",
    "version": 3
   },
   "file_extension": ".py",
   "mimetype": "text/x-python",
   "name": "python",
   "nbconvert_exporter": "python",
   "pygments_lexer": "ipython3",
   "version": "3.9.18"
  }
 },
 "nbformat": 4,
 "nbformat_minor": 5
}
