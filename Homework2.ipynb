{
 "cells": [
  {
   "cell_type": "markdown",
   "id": "1e1559f9-7c88-4e70-bef2-13ddf86c0398",
   "metadata": {},
   "source": [
    "# Homework 2\n",
    "- Student: Aleksandra Kocot\n",
    " - [Git Hub page with the Homework questions](https://github.com/DataTalksClub/machine-learning-zoomcamp/blob/master/cohorts/2023/02-regression/homework.md)"
   ]
  },
  {
   "cell_type": "code",
   "execution_count": 1,
   "id": "88db8ea4-0139-4a08-a862-f39c2075fe6d",
   "metadata": {},
   "outputs": [
    {
     "name": "stdout",
     "output_type": "stream",
     "text": [
      "--2023-09-16 14:14:21--  https://raw.githubusercontent.com/alexeygrigorev/datasets/master/housing.csv\n",
      "Resolving raw.githubusercontent.com (raw.githubusercontent.com)... 2606:50c0:8002::154, 2606:50c0:8000::154, 2606:50c0:8001::154, ...\n",
      "Connecting to raw.githubusercontent.com (raw.githubusercontent.com)|2606:50c0:8002::154|:443... connected.\n",
      "HTTP request sent, awaiting response... 200 OK\n",
      "Length: 1423529 (1,4M) [text/plain]\n",
      "Saving to: ‘housing.csv’\n",
      "\n",
      "housing.csv         100%[===================>]   1,36M  2,24MB/s    in 0,6s    \n",
      "\n",
      "2023-09-16 14:14:22 (2,24 MB/s) - ‘housing.csv’ saved [1423529/1423529]\n",
      "\n"
     ]
    }
   ],
   "source": [
    "!wget https://raw.githubusercontent.com/alexeygrigorev/datasets/master/housing.csv"
   ]
  },
  {
   "cell_type": "code",
   "execution_count": 2,
   "id": "9d5d7b9a-40d3-4ce9-8886-6008a3758d04",
   "metadata": {},
   "outputs": [
    {
     "name": "stdout",
     "output_type": "stream",
     "text": [
      "longitude,latitude,housing_median_age,total_rooms,total_bedrooms,population,households,median_income,median_house_value,ocean_proximity\n",
      "-122.23,37.88,41.0,880.0,129.0,322.0,126.0,8.3252,452600.0,NEAR BAY\n",
      "-122.22,37.86,21.0,7099.0,1106.0,2401.0,1138.0,8.3014,358500.0,NEAR BAY\n",
      "-122.24,37.85,52.0,1467.0,190.0,496.0,177.0,7.2574,352100.0,NEAR BAY\n",
      "-122.25,37.85,52.0,1274.0,235.0,558.0,219.0,5.6431,341300.0,NEAR BAY\n",
      "-122.25,37.85,52.0,1627.0,280.0,565.0,259.0,3.8462,342200.0,NEAR BAY\n",
      "-122.25,37.85,52.0,919.0,213.0,413.0,193.0,4.0368,269700.0,NEAR BAY\n",
      "-122.25,37.84,52.0,2535.0,489.0,1094.0,514.0,3.6591,299200.0,NEAR BAY\n",
      "-122.25,37.84,52.0,3104.0,687.0,1157.0,647.0,3.12,241400.0,NEAR BAY\n",
      "-122.26,37.84,42.0,2555.0,665.0,1206.0,595.0,2.0804,226700.0,NEAR BAY\n"
     ]
    }
   ],
   "source": [
    "!head housing.csv"
   ]
  },
  {
   "cell_type": "code",
   "execution_count": 3,
   "id": "b97076e4-39e8-4533-b78f-f3a5d6a4297d",
   "metadata": {},
   "outputs": [
    {
     "name": "stdout",
     "output_type": "stream",
     "text": [
      "20641 housing.csv\n"
     ]
    }
   ],
   "source": [
    "!wc -l housing.csv"
   ]
  },
  {
   "cell_type": "code",
   "execution_count": 3,
   "id": "0efff091-89e1-4366-b870-be253c120eec",
   "metadata": {},
   "outputs": [],
   "source": [
    "import numpy as np\n",
    "import pandas as pd\n",
    "import seaborn as sns"
   ]
  },
  {
   "cell_type": "code",
   "execution_count": 4,
   "id": "aedaa8f3-2648-4b49-b6f1-a5a096cab717",
   "metadata": {},
   "outputs": [],
   "source": [
    "df_raw = pd.read_csv(\"housing.csv\")"
   ]
  },
  {
   "cell_type": "code",
   "execution_count": 5,
   "id": "20ab5588-b489-418a-b184-661e8cf0d52f",
   "metadata": {},
   "outputs": [
    {
     "data": {
      "text/html": [
       "<div>\n",
       "<style scoped>\n",
       "    .dataframe tbody tr th:only-of-type {\n",
       "        vertical-align: middle;\n",
       "    }\n",
       "\n",
       "    .dataframe tbody tr th {\n",
       "        vertical-align: top;\n",
       "    }\n",
       "\n",
       "    .dataframe thead th {\n",
       "        text-align: right;\n",
       "    }\n",
       "</style>\n",
       "<table border=\"1\" class=\"dataframe\">\n",
       "  <thead>\n",
       "    <tr style=\"text-align: right;\">\n",
       "      <th></th>\n",
       "      <th>longitude</th>\n",
       "      <th>latitude</th>\n",
       "      <th>housing_median_age</th>\n",
       "      <th>total_rooms</th>\n",
       "      <th>total_bedrooms</th>\n",
       "      <th>population</th>\n",
       "      <th>households</th>\n",
       "      <th>median_income</th>\n",
       "      <th>median_house_value</th>\n",
       "      <th>ocean_proximity</th>\n",
       "    </tr>\n",
       "  </thead>\n",
       "  <tbody>\n",
       "    <tr>\n",
       "      <th>0</th>\n",
       "      <td>-122.23</td>\n",
       "      <td>37.88</td>\n",
       "      <td>41.0</td>\n",
       "      <td>880.0</td>\n",
       "      <td>129.0</td>\n",
       "      <td>322.0</td>\n",
       "      <td>126.0</td>\n",
       "      <td>8.3252</td>\n",
       "      <td>452600.0</td>\n",
       "      <td>NEAR BAY</td>\n",
       "    </tr>\n",
       "    <tr>\n",
       "      <th>1</th>\n",
       "      <td>-122.22</td>\n",
       "      <td>37.86</td>\n",
       "      <td>21.0</td>\n",
       "      <td>7099.0</td>\n",
       "      <td>1106.0</td>\n",
       "      <td>2401.0</td>\n",
       "      <td>1138.0</td>\n",
       "      <td>8.3014</td>\n",
       "      <td>358500.0</td>\n",
       "      <td>NEAR BAY</td>\n",
       "    </tr>\n",
       "    <tr>\n",
       "      <th>2</th>\n",
       "      <td>-122.24</td>\n",
       "      <td>37.85</td>\n",
       "      <td>52.0</td>\n",
       "      <td>1467.0</td>\n",
       "      <td>190.0</td>\n",
       "      <td>496.0</td>\n",
       "      <td>177.0</td>\n",
       "      <td>7.2574</td>\n",
       "      <td>352100.0</td>\n",
       "      <td>NEAR BAY</td>\n",
       "    </tr>\n",
       "    <tr>\n",
       "      <th>3</th>\n",
       "      <td>-122.25</td>\n",
       "      <td>37.85</td>\n",
       "      <td>52.0</td>\n",
       "      <td>1274.0</td>\n",
       "      <td>235.0</td>\n",
       "      <td>558.0</td>\n",
       "      <td>219.0</td>\n",
       "      <td>5.6431</td>\n",
       "      <td>341300.0</td>\n",
       "      <td>NEAR BAY</td>\n",
       "    </tr>\n",
       "    <tr>\n",
       "      <th>4</th>\n",
       "      <td>-122.25</td>\n",
       "      <td>37.85</td>\n",
       "      <td>52.0</td>\n",
       "      <td>1627.0</td>\n",
       "      <td>280.0</td>\n",
       "      <td>565.0</td>\n",
       "      <td>259.0</td>\n",
       "      <td>3.8462</td>\n",
       "      <td>342200.0</td>\n",
       "      <td>NEAR BAY</td>\n",
       "    </tr>\n",
       "    <tr>\n",
       "      <th>...</th>\n",
       "      <td>...</td>\n",
       "      <td>...</td>\n",
       "      <td>...</td>\n",
       "      <td>...</td>\n",
       "      <td>...</td>\n",
       "      <td>...</td>\n",
       "      <td>...</td>\n",
       "      <td>...</td>\n",
       "      <td>...</td>\n",
       "      <td>...</td>\n",
       "    </tr>\n",
       "    <tr>\n",
       "      <th>20635</th>\n",
       "      <td>-121.09</td>\n",
       "      <td>39.48</td>\n",
       "      <td>25.0</td>\n",
       "      <td>1665.0</td>\n",
       "      <td>374.0</td>\n",
       "      <td>845.0</td>\n",
       "      <td>330.0</td>\n",
       "      <td>1.5603</td>\n",
       "      <td>78100.0</td>\n",
       "      <td>INLAND</td>\n",
       "    </tr>\n",
       "    <tr>\n",
       "      <th>20636</th>\n",
       "      <td>-121.21</td>\n",
       "      <td>39.49</td>\n",
       "      <td>18.0</td>\n",
       "      <td>697.0</td>\n",
       "      <td>150.0</td>\n",
       "      <td>356.0</td>\n",
       "      <td>114.0</td>\n",
       "      <td>2.5568</td>\n",
       "      <td>77100.0</td>\n",
       "      <td>INLAND</td>\n",
       "    </tr>\n",
       "    <tr>\n",
       "      <th>20637</th>\n",
       "      <td>-121.22</td>\n",
       "      <td>39.43</td>\n",
       "      <td>17.0</td>\n",
       "      <td>2254.0</td>\n",
       "      <td>485.0</td>\n",
       "      <td>1007.0</td>\n",
       "      <td>433.0</td>\n",
       "      <td>1.7000</td>\n",
       "      <td>92300.0</td>\n",
       "      <td>INLAND</td>\n",
       "    </tr>\n",
       "    <tr>\n",
       "      <th>20638</th>\n",
       "      <td>-121.32</td>\n",
       "      <td>39.43</td>\n",
       "      <td>18.0</td>\n",
       "      <td>1860.0</td>\n",
       "      <td>409.0</td>\n",
       "      <td>741.0</td>\n",
       "      <td>349.0</td>\n",
       "      <td>1.8672</td>\n",
       "      <td>84700.0</td>\n",
       "      <td>INLAND</td>\n",
       "    </tr>\n",
       "    <tr>\n",
       "      <th>20639</th>\n",
       "      <td>-121.24</td>\n",
       "      <td>39.37</td>\n",
       "      <td>16.0</td>\n",
       "      <td>2785.0</td>\n",
       "      <td>616.0</td>\n",
       "      <td>1387.0</td>\n",
       "      <td>530.0</td>\n",
       "      <td>2.3886</td>\n",
       "      <td>89400.0</td>\n",
       "      <td>INLAND</td>\n",
       "    </tr>\n",
       "  </tbody>\n",
       "</table>\n",
       "<p>20640 rows × 10 columns</p>\n",
       "</div>"
      ],
      "text/plain": [
       "       longitude  latitude  housing_median_age  total_rooms  total_bedrooms  \\\n",
       "0        -122.23     37.88                41.0        880.0           129.0   \n",
       "1        -122.22     37.86                21.0       7099.0          1106.0   \n",
       "2        -122.24     37.85                52.0       1467.0           190.0   \n",
       "3        -122.25     37.85                52.0       1274.0           235.0   \n",
       "4        -122.25     37.85                52.0       1627.0           280.0   \n",
       "...          ...       ...                 ...          ...             ...   \n",
       "20635    -121.09     39.48                25.0       1665.0           374.0   \n",
       "20636    -121.21     39.49                18.0        697.0           150.0   \n",
       "20637    -121.22     39.43                17.0       2254.0           485.0   \n",
       "20638    -121.32     39.43                18.0       1860.0           409.0   \n",
       "20639    -121.24     39.37                16.0       2785.0           616.0   \n",
       "\n",
       "       population  households  median_income  median_house_value  \\\n",
       "0           322.0       126.0         8.3252            452600.0   \n",
       "1          2401.0      1138.0         8.3014            358500.0   \n",
       "2           496.0       177.0         7.2574            352100.0   \n",
       "3           558.0       219.0         5.6431            341300.0   \n",
       "4           565.0       259.0         3.8462            342200.0   \n",
       "...           ...         ...            ...                 ...   \n",
       "20635       845.0       330.0         1.5603             78100.0   \n",
       "20636       356.0       114.0         2.5568             77100.0   \n",
       "20637      1007.0       433.0         1.7000             92300.0   \n",
       "20638       741.0       349.0         1.8672             84700.0   \n",
       "20639      1387.0       530.0         2.3886             89400.0   \n",
       "\n",
       "      ocean_proximity  \n",
       "0            NEAR BAY  \n",
       "1            NEAR BAY  \n",
       "2            NEAR BAY  \n",
       "3            NEAR BAY  \n",
       "4            NEAR BAY  \n",
       "...               ...  \n",
       "20635          INLAND  \n",
       "20636          INLAND  \n",
       "20637          INLAND  \n",
       "20638          INLAND  \n",
       "20639          INLAND  \n",
       "\n",
       "[20640 rows x 10 columns]"
      ]
     },
     "execution_count": 5,
     "metadata": {},
     "output_type": "execute_result"
    }
   ],
   "source": [
    "df_raw"
   ]
  },
  {
   "cell_type": "markdown",
   "id": "b9e271e7-6219-4b99-93ef-552af9b35c94",
   "metadata": {},
   "source": [
    "#### EDA"
   ]
  },
  {
   "cell_type": "code",
   "execution_count": 7,
   "id": "3907e0ea-9cd6-43de-977b-0fa9118422c9",
   "metadata": {},
   "outputs": [
    {
     "name": "stderr",
     "output_type": "stream",
     "text": [
      "/home/olks/.pyenv/versions/mlzoomcamp2023/lib/python3.9/site-packages/seaborn/_oldcore.py:1498: FutureWarning: is_categorical_dtype is deprecated and will be removed in a future version. Use isinstance(dtype, CategoricalDtype) instead\n",
      "  if pd.api.types.is_categorical_dtype(vector):\n",
      "/home/olks/.pyenv/versions/mlzoomcamp2023/lib/python3.9/site-packages/seaborn/_oldcore.py:1119: FutureWarning: use_inf_as_na option is deprecated and will be removed in a future version. Convert inf values to NaN before operating instead.\n",
      "  with pd.option_context('mode.use_inf_as_na', True):\n"
     ]
    },
    {
     "data": {
      "image/png": "[encoded data removed]",
      "text/plain": [
       "<Figure size 640x480 with 1 Axes>"
      ]
     },
     "metadata": {},
     "output_type": "display_data"
    }
   ],
   "source": [
    "sns.histplot(df_raw[\"median_house_value\"]);"
   ]
  },
  {
   "cell_type": "code",
   "execution_count": 8,
   "id": "9d96e3d2-0f95-409f-ad86-b6c4c3aa4ff3",
   "metadata": {},
   "outputs": [
    {
     "name": "stderr",
     "output_type": "stream",
     "text": [
      "/home/olks/.pyenv/versions/mlzoomcamp2023/lib/python3.9/site-packages/seaborn/_oldcore.py:1498: FutureWarning: is_categorical_dtype is deprecated and will be removed in a future version. Use isinstance(dtype, CategoricalDtype) instead\n",
      "  if pd.api.types.is_categorical_dtype(vector):\n",
      "/home/olks/.pyenv/versions/mlzoomcamp2023/lib/python3.9/site-packages/seaborn/_oldcore.py:1119: FutureWarning: use_inf_as_na option is deprecated and will be removed in a future version. Convert inf values to NaN before operating instead.\n",
      "  with pd.option_context('mode.use_inf_as_na', True):\n"
     ]
    },
    {
     "data": {
      "image/png": "[encoded data removed]",
      "text/plain": [
       "<Figure size 640x480 with 1 Axes>"
      ]
     },
     "metadata": {},
     "output_type": "display_data"
    }
   ],
   "source": [
    "sns.histplot(df_raw[\"median_house_value\"], bins=100);"
   ]
  },
  {
   "cell_type": "markdown",
   "id": "f2894304-e934-495c-9f8f-180cab32cd02",
   "metadata": {},
   "source": [
    "- Data has a tail but it is not very long.\n",
    "- There are many more elements in the highes values bin than in the all the other."
   ]
  },
  {
   "cell_type": "markdown",
   "id": "c5ae7063-31bf-49f9-9ada-edb962af0132",
   "metadata": {},
   "source": [
    "#### Data Preparation"
   ]
  },
  {
   "cell_type": "code",
   "execution_count": 9,
   "id": "ca763a7a-e755-4562-85e1-b20424c451d0",
   "metadata": {},
   "outputs": [],
   "source": [
    "df = df_raw[df_raw[\"ocean_proximity\"].isin(['<1H OCEAN', 'INLAND'])].drop(columns=\"ocean_proximity\")"
   ]
  },
  {
   "cell_type": "markdown",
   "id": "b6c967be-082a-4b87-acb4-2e96b3511992",
   "metadata": {},
   "source": [
    "## Question 1\n",
    "There's one feature with missing values. What is it?\n",
    "\n",
    "- total_rooms\n",
    "- <b>total_bedrooms</b>\n",
    "- population\n",
    "- households"
   ]
  },
  {
   "cell_type": "code",
   "execution_count": 10,
   "id": "20d59577-c90d-49dc-b465-68c66dec9c46",
   "metadata": {},
   "outputs": [
    {
     "data": {
      "text/plain": [
       "longitude               0\n",
       "latitude                0\n",
       "housing_median_age      0\n",
       "total_rooms             0\n",
       "total_bedrooms        157\n",
       "population              0\n",
       "households              0\n",
       "median_income           0\n",
       "median_house_value      0\n",
       "dtype: int64"
      ]
     },
     "execution_count": 10,
     "metadata": {},
     "output_type": "execute_result"
    }
   ],
   "source": [
    "df.isna().sum()"
   ]
  },
  {
   "cell_type": "code",
   "execution_count": 15,
   "id": "ebb2fa20-52a6-4e84-87f1-311d0457a7c1",
   "metadata": {},
   "outputs": [
    {
     "data": {
      "text/html": [
       "<div>\n",
       "<style scoped>\n",
       "    .dataframe tbody tr th:only-of-type {\n",
       "        vertical-align: middle;\n",
       "    }\n",
       "\n",
       "    .dataframe tbody tr th {\n",
       "        vertical-align: top;\n",
       "    }\n",
       "\n",
       "    .dataframe thead th {\n",
       "        text-align: right;\n",
       "    }\n",
       "</style>\n",
       "<table border=\"1\" class=\"dataframe\">\n",
       "  <thead>\n",
       "    <tr style=\"text-align: right;\">\n",
       "      <th></th>\n",
       "      <th>count</th>\n",
       "      <th>mean</th>\n",
       "      <th>std</th>\n",
       "      <th>min</th>\n",
       "      <th>0%</th>\n",
       "      <th>10%</th>\n",
       "      <th>25%</th>\n",
       "      <th>50%</th>\n",
       "      <th>75%</th>\n",
       "      <th>90%</th>\n",
       "      <th>95%</th>\n",
       "      <th>99%</th>\n",
       "      <th>max</th>\n",
       "    </tr>\n",
       "  </thead>\n",
       "  <tbody>\n",
       "    <tr>\n",
       "      <th>longitude</th>\n",
       "      <td>15687.0</td>\n",
       "      <td>-119.217442</td>\n",
       "      <td>1.780380</td>\n",
       "      <td>-124.1400</td>\n",
       "      <td>-124.1400</td>\n",
       "      <td>-121.900</td>\n",
       "      <td>-121.0700</td>\n",
       "      <td>-118.3700</td>\n",
       "      <td>-117.9900</td>\n",
       "      <td>-117.37000</td>\n",
       "      <td>-117.07000</td>\n",
       "      <td>-116.077200</td>\n",
       "      <td>-114.3100</td>\n",
       "    </tr>\n",
       "    <tr>\n",
       "      <th>latitude</th>\n",
       "      <td>15687.0</td>\n",
       "      <td>35.467307</td>\n",
       "      <td>2.066387</td>\n",
       "      <td>32.6100</td>\n",
       "      <td>32.6100</td>\n",
       "      <td>33.750</td>\n",
       "      <td>33.9400</td>\n",
       "      <td>34.1600</td>\n",
       "      <td>37.3400</td>\n",
       "      <td>38.59000</td>\n",
       "      <td>39.12000</td>\n",
       "      <td>40.570000</td>\n",
       "      <td>41.9500</td>\n",
       "    </tr>\n",
       "    <tr>\n",
       "      <th>housing_median_age</th>\n",
       "      <td>15687.0</td>\n",
       "      <td>27.188118</td>\n",
       "      <td>12.057128</td>\n",
       "      <td>1.0000</td>\n",
       "      <td>1.0000</td>\n",
       "      <td>11.000</td>\n",
       "      <td>17.0000</td>\n",
       "      <td>27.0000</td>\n",
       "      <td>36.0000</td>\n",
       "      <td>43.00000</td>\n",
       "      <td>48.00000</td>\n",
       "      <td>52.000000</td>\n",
       "      <td>52.0000</td>\n",
       "    </tr>\n",
       "    <tr>\n",
       "      <th>total_rooms</th>\n",
       "      <td>15687.0</td>\n",
       "      <td>2665.677312</td>\n",
       "      <td>2257.672743</td>\n",
       "      <td>2.0000</td>\n",
       "      <td>2.0000</td>\n",
       "      <td>937.000</td>\n",
       "      <td>1441.0000</td>\n",
       "      <td>2118.0000</td>\n",
       "      <td>3172.0000</td>\n",
       "      <td>4773.00000</td>\n",
       "      <td>6386.50000</td>\n",
       "      <td>11637.660000</td>\n",
       "      <td>39320.0000</td>\n",
       "    </tr>\n",
       "    <tr>\n",
       "      <th>total_bedrooms</th>\n",
       "      <td>15530.0</td>\n",
       "      <td>541.244688</td>\n",
       "      <td>435.650018</td>\n",
       "      <td>2.0000</td>\n",
       "      <td>2.0000</td>\n",
       "      <td>197.000</td>\n",
       "      <td>295.0000</td>\n",
       "      <td>432.0000</td>\n",
       "      <td>645.0000</td>\n",
       "      <td>976.00000</td>\n",
       "      <td>1300.00000</td>\n",
       "      <td>2292.710000</td>\n",
       "      <td>6445.0000</td>\n",
       "    </tr>\n",
       "    <tr>\n",
       "      <th>population</th>\n",
       "      <td>15687.0</td>\n",
       "      <td>1466.317205</td>\n",
       "      <td>1180.389908</td>\n",
       "      <td>3.0000</td>\n",
       "      <td>3.0000</td>\n",
       "      <td>519.000</td>\n",
       "      <td>802.0000</td>\n",
       "      <td>1195.0000</td>\n",
       "      <td>1777.0000</td>\n",
       "      <td>2654.40000</td>\n",
       "      <td>3426.70000</td>\n",
       "      <td>6015.080000</td>\n",
       "      <td>35682.0000</td>\n",
       "    </tr>\n",
       "    <tr>\n",
       "      <th>households</th>\n",
       "      <td>15687.0</td>\n",
       "      <td>500.916491</td>\n",
       "      <td>392.759399</td>\n",
       "      <td>2.0000</td>\n",
       "      <td>2.0000</td>\n",
       "      <td>182.600</td>\n",
       "      <td>278.0000</td>\n",
       "      <td>406.0000</td>\n",
       "      <td>602.0000</td>\n",
       "      <td>902.00000</td>\n",
       "      <td>1189.00000</td>\n",
       "      <td>2038.280000</td>\n",
       "      <td>6082.0000</td>\n",
       "    </tr>\n",
       "    <tr>\n",
       "      <th>median_income</th>\n",
       "      <td>15687.0</td>\n",
       "      <td>3.804019</td>\n",
       "      <td>1.857158</td>\n",
       "      <td>0.4999</td>\n",
       "      <td>0.4999</td>\n",
       "      <td>1.875</td>\n",
       "      <td>2.5208</td>\n",
       "      <td>3.4688</td>\n",
       "      <td>4.6862</td>\n",
       "      <td>6.08164</td>\n",
       "      <td>7.11438</td>\n",
       "      <td>10.358868</td>\n",
       "      <td>15.0001</td>\n",
       "    </tr>\n",
       "    <tr>\n",
       "      <th>median_house_value</th>\n",
       "      <td>15687.0</td>\n",
       "      <td>191943.020017</td>\n",
       "      <td>108801.077620</td>\n",
       "      <td>14999.0000</td>\n",
       "      <td>14999.0000</td>\n",
       "      <td>74800.000</td>\n",
       "      <td>111300.0000</td>\n",
       "      <td>166900.0000</td>\n",
       "      <td>241100.0000</td>\n",
       "      <td>347700.00000</td>\n",
       "      <td>440900.00000</td>\n",
       "      <td>500001.000000</td>\n",
       "      <td>500001.0000</td>\n",
       "    </tr>\n",
       "  </tbody>\n",
       "</table>\n",
       "</div>"
      ],
      "text/plain": [
       "                      count           mean            std         min  \\\n",
       "longitude           15687.0    -119.217442       1.780380   -124.1400   \n",
       "latitude            15687.0      35.467307       2.066387     32.6100   \n",
       "housing_median_age  15687.0      27.188118      12.057128      1.0000   \n",
       "total_rooms         15687.0    2665.677312    2257.672743      2.0000   \n",
       "total_bedrooms      15530.0     541.244688     435.650018      2.0000   \n",
       "population          15687.0    1466.317205    1180.389908      3.0000   \n",
       "households          15687.0     500.916491     392.759399      2.0000   \n",
       "median_income       15687.0       3.804019       1.857158      0.4999   \n",
       "median_house_value  15687.0  191943.020017  108801.077620  14999.0000   \n",
       "\n",
       "                            0%        10%          25%          50%  \\\n",
       "longitude            -124.1400   -121.900    -121.0700    -118.3700   \n",
       "latitude               32.6100     33.750      33.9400      34.1600   \n",
       "housing_median_age      1.0000     11.000      17.0000      27.0000   \n",
       "total_rooms             2.0000    937.000    1441.0000    2118.0000   \n",
       "total_bedrooms          2.0000    197.000     295.0000     432.0000   \n",
       "population              3.0000    519.000     802.0000    1195.0000   \n",
       "households              2.0000    182.600     278.0000     406.0000   \n",
       "median_income           0.4999      1.875       2.5208       3.4688   \n",
       "median_house_value  14999.0000  74800.000  111300.0000  166900.0000   \n",
       "\n",
       "                            75%           90%           95%            99%  \\\n",
       "longitude             -117.9900    -117.37000    -117.07000    -116.077200   \n",
       "latitude                37.3400      38.59000      39.12000      40.570000   \n",
       "housing_median_age      36.0000      43.00000      48.00000      52.000000   \n",
       "total_rooms           3172.0000    4773.00000    6386.50000   11637.660000   \n",
       "total_bedrooms         645.0000     976.00000    1300.00000    2292.710000   \n",
       "population            1777.0000    2654.40000    3426.70000    6015.080000   \n",
       "households             602.0000     902.00000    1189.00000    2038.280000   \n",
       "median_income            4.6862       6.08164       7.11438      10.358868   \n",
       "median_house_value  241100.0000  347700.00000  440900.00000  500001.000000   \n",
       "\n",
       "                            max  \n",
       "longitude             -114.3100  \n",
       "latitude                41.9500  \n",
       "housing_median_age      52.0000  \n",
       "total_rooms          39320.0000  \n",
       "total_bedrooms        6445.0000  \n",
       "population           35682.0000  \n",
       "households            6082.0000  \n",
       "median_income           15.0001  \n",
       "median_house_value  500001.0000  "
      ]
     },
     "execution_count": 15,
     "metadata": {},
     "output_type": "execute_result"
    }
   ],
   "source": [
    "df.describe(percentiles=[.0, .25, .5, .75, .9, .95, .99, .1]).T"
   ]
  },
  {
   "cell_type": "markdown",
   "id": "07092780-2169-43fb-8d93-c24773909821",
   "metadata": {},
   "source": [
    "## Question 2\n",
    "What's the median (50% percentile) for variable 'population'?\n",
    "\n",
    "- 995\n",
    "- 1095\n",
    "- <b>1195</b>\n",
    "- 1295"
   ]
  },
  {
   "cell_type": "code",
   "execution_count": 12,
   "id": "bbadec97-58e5-4152-bcd9-2301c93953d3",
   "metadata": {},
   "outputs": [
    {
     "data": {
      "text/plain": [
       "1195.0"
      ]
     },
     "execution_count": 12,
     "metadata": {},
     "output_type": "execute_result"
    }
   ],
   "source": [
    "df[\"population\"].median()"
   ]
  },
  {
   "cell_type": "markdown",
   "id": "3d791abf-f36b-4d05-a29d-156bc1817326",
   "metadata": {},
   "source": [
    "#### Prepare and split the dataset\n",
    "Shuffle the initial dataset, use seed 42.<br>\n",
    "Split your data in train/val/test sets, with 60%/20%/20% distribution.<br>\n",
    "Apply the log transformation to the median_house_value variable using the np.log1p() function."
   ]
  },
  {
   "cell_type": "code",
   "execution_count": 7,
   "id": "41ab79ca-185c-4f09-a267-6778b5dc1bfe",
   "metadata": {},
   "outputs": [],
   "source": [
    "np.random.seed(42)\n",
    "\n",
    "n = len(df)\n",
    "\n",
    "n_val = int(0.2 * n)\n",
    "n_test = int(0.2 * n)\n",
    "n_train = n - (n_val + n_test)\n",
    "\n",
    "idx = np.arange(n)\n",
    "np.random.shuffle(idx)\n",
    "\n",
    "df_shuffled = df.iloc[idx]\n",
    "\n",
    "df_train = df_shuffled.iloc[:n_train].copy()\n",
    "df_val = df_shuffled.iloc[n_train:n_train+n_val].copy()\n",
    "df_test = df_shuffled.iloc[n_train+n_val:].copy()"
   ]
  },
  {
   "cell_type": "code",
   "execution_count": 8,
   "id": "7843a1b1-c588-4bb6-a6b1-c7592cfc4491",
   "metadata": {},
   "outputs": [],
   "source": [
    "y_train_orig = df_train.median_house_value.values\n",
    "y_val_orig = df_val.median_house_value.values\n",
    "y_test_orig = df_test.median_house_value.values\n",
    "\n",
    "y_train = np.log1p(df_train.median_house_value.values)\n",
    "y_val = np.log1p(df_val.median_house_value.values)\n",
    "y_test = np.log1p(df_test.median_house_value.values)\n",
    "\n",
    "del df_train['median_house_value']\n",
    "del df_val['median_house_value']\n",
    "del df_test['median_house_value']"
   ]
  },
  {
   "cell_type": "markdown",
   "id": "5d0d03d4-51c5-4513-93ef-95af62fc5c04",
   "metadata": {},
   "source": [
    "## Question 3\n",
    "We need to deal with missing values for the column from Q1.<br>\n",
    "We have two options: fill it with 0 or with the mean of this variable.<br>\n",
    "Try both options. For each, train a linear regression model without regularization using the code from the lessons.<br>\n",
    "For computing the mean, use the training only!<br>\n",
    "Use the validation dataset to evaluate the models and compare the RMSE of each option.<br>\n",
    "Round the RMSE scores to 2 decimal digits using round(score, 2)<br>\n",
    "Which option gives better RMSE?<br>\n",
    "Options:\n",
    "- With 0\n",
    "- With mean\n",
    "- <b>Both are equally good</b>"
   ]
  },
  {
   "cell_type": "code",
   "execution_count": 11,
   "id": "8bc3cd8e-911b-4416-bfee-83371f2a3abc",
   "metadata": {},
   "outputs": [],
   "source": [
    "def prepare_X(df, fill=0):\n",
    "    df_num = df[base]\n",
    "    df_num = df_num.fillna(fill)\n",
    "    X = df_num.values\n",
    "    return X"
   ]
  },
  {
   "cell_type": "code",
   "execution_count": 12,
   "id": "29cadde1-bc3d-4228-8f53-5d50410f62e0",
   "metadata": {},
   "outputs": [],
   "source": [
    "def train_linear_regression_reg(X, y, r=0.0):\n",
    "    ones = np.ones(X.shape[0])\n",
    "    X = np.column_stack([ones, X])\n",
    "\n",
    "    XTX = X.T.dot(X)\n",
    "    reg = r * np.eye(XTX.shape[0])\n",
    "\n",
    "    # don't penalized on the intercept\n",
    "    # reg[0,0] = 0\n",
    "    XTX = XTX + reg\n",
    "\n",
    "    XTX_inv = np.linalg.inv(XTX)\n",
    "    w = XTX_inv.dot(X.T).dot(y)\n",
    "    \n",
    "    return w[0], w[1:]"
   ]
  },
  {
   "cell_type": "code",
   "execution_count": 13,
   "id": "ace78ea9-c653-448b-b534-b8a2ee1cc352",
   "metadata": {},
   "outputs": [],
   "source": [
    "def rmse(y, y_pred):\n",
    "    error = y_pred - y\n",
    "    mse = (error ** 2).mean()\n",
    "    return np.sqrt(mse)"
   ]
  },
  {
   "cell_type": "code",
   "execution_count": 14,
   "id": "e7b651cc-8fa8-4b75-9ea1-c17bb65a2731",
   "metadata": {},
   "outputs": [],
   "source": [
    "base = df_train.columns"
   ]
  },
  {
   "cell_type": "markdown",
   "id": "732f63b0-c636-4f7b-9ebf-cddb18d5d495",
   "metadata": {},
   "source": [
    "#### Filling missing values with 0's"
   ]
  },
  {
   "cell_type": "code",
   "execution_count": 15,
   "id": "045bb1e5-3368-4866-bcff-b96a6f1e2334",
   "metadata": {},
   "outputs": [],
   "source": [
    "X_train = prepare_X(df_train)\n",
    "w_0, w = train_linear_regression_reg(X_train, y_train, r=0)"
   ]
  },
  {
   "cell_type": "code",
   "execution_count": 18,
   "id": "96dba783-c8b8-47ff-bc92-479dbd7959ba",
   "metadata": {},
   "outputs": [
    {
     "data": {
      "text/html": [
       "<div>\n",
       "<style scoped>\n",
       "    .dataframe tbody tr th:only-of-type {\n",
       "        vertical-align: middle;\n",
       "    }\n",
       "\n",
       "    .dataframe tbody tr th {\n",
       "        vertical-align: top;\n",
       "    }\n",
       "\n",
       "    .dataframe thead th {\n",
       "        text-align: right;\n",
       "    }\n",
       "</style>\n",
       "<table border=\"1\" class=\"dataframe\">\n",
       "  <thead>\n",
       "    <tr style=\"text-align: right;\">\n",
       "      <th></th>\n",
       "      <th>longitude</th>\n",
       "      <th>latitude</th>\n",
       "      <th>housing_median_age</th>\n",
       "      <th>total_rooms</th>\n",
       "      <th>total_bedrooms</th>\n",
       "      <th>population</th>\n",
       "      <th>households</th>\n",
       "      <th>median_income</th>\n",
       "    </tr>\n",
       "  </thead>\n",
       "  <tbody>\n",
       "    <tr>\n",
       "      <th>19963</th>\n",
       "      <td>-119.14</td>\n",
       "      <td>36.23</td>\n",
       "      <td>22.0</td>\n",
       "      <td>2935.0</td>\n",
       "      <td>523.0</td>\n",
       "      <td>1927.0</td>\n",
       "      <td>530.0</td>\n",
       "      <td>2.5875</td>\n",
       "    </tr>\n",
       "    <tr>\n",
       "      <th>5929</th>\n",
       "      <td>-117.79</td>\n",
       "      <td>34.12</td>\n",
       "      <td>16.0</td>\n",
       "      <td>2426.0</td>\n",
       "      <td>426.0</td>\n",
       "      <td>1319.0</td>\n",
       "      <td>446.0</td>\n",
       "      <td>4.8125</td>\n",
       "    </tr>\n",
       "    <tr>\n",
       "      <th>11377</th>\n",
       "      <td>-117.97</td>\n",
       "      <td>33.68</td>\n",
       "      <td>26.0</td>\n",
       "      <td>3653.0</td>\n",
       "      <td>568.0</td>\n",
       "      <td>1930.0</td>\n",
       "      <td>585.0</td>\n",
       "      <td>5.7301</td>\n",
       "    </tr>\n",
       "    <tr>\n",
       "      <th>6443</th>\n",
       "      <td>-118.03</td>\n",
       "      <td>34.10</td>\n",
       "      <td>32.0</td>\n",
       "      <td>2668.0</td>\n",
       "      <td>609.0</td>\n",
       "      <td>1512.0</td>\n",
       "      <td>541.0</td>\n",
       "      <td>2.9422</td>\n",
       "    </tr>\n",
       "    <tr>\n",
       "      <th>17546</th>\n",
       "      <td>-121.87</td>\n",
       "      <td>37.34</td>\n",
       "      <td>39.0</td>\n",
       "      <td>2479.0</td>\n",
       "      <td>541.0</td>\n",
       "      <td>1990.0</td>\n",
       "      <td>506.0</td>\n",
       "      <td>2.4306</td>\n",
       "    </tr>\n",
       "    <tr>\n",
       "      <th>...</th>\n",
       "      <td>...</td>\n",
       "      <td>...</td>\n",
       "      <td>...</td>\n",
       "      <td>...</td>\n",
       "      <td>...</td>\n",
       "      <td>...</td>\n",
       "      <td>...</td>\n",
       "      <td>...</td>\n",
       "    </tr>\n",
       "    <tr>\n",
       "      <th>20157</th>\n",
       "      <td>-119.15</td>\n",
       "      <td>34.44</td>\n",
       "      <td>33.0</td>\n",
       "      <td>2005.0</td>\n",
       "      <td>392.0</td>\n",
       "      <td>1043.0</td>\n",
       "      <td>351.0</td>\n",
       "      <td>5.3080</td>\n",
       "    </tr>\n",
       "    <tr>\n",
       "      <th>20005</th>\n",
       "      <td>-119.13</td>\n",
       "      <td>36.13</td>\n",
       "      <td>28.0</td>\n",
       "      <td>1673.0</td>\n",
       "      <td>385.0</td>\n",
       "      <td>1434.0</td>\n",
       "      <td>371.0</td>\n",
       "      <td>2.0586</td>\n",
       "    </tr>\n",
       "    <tr>\n",
       "      <th>6691</th>\n",
       "      <td>-118.08</td>\n",
       "      <td>34.13</td>\n",
       "      <td>46.0</td>\n",
       "      <td>1238.0</td>\n",
       "      <td>147.0</td>\n",
       "      <td>377.0</td>\n",
       "      <td>145.0</td>\n",
       "      <td>8.4546</td>\n",
       "    </tr>\n",
       "    <tr>\n",
       "      <th>3470</th>\n",
       "      <td>-118.46</td>\n",
       "      <td>34.29</td>\n",
       "      <td>24.0</td>\n",
       "      <td>3668.0</td>\n",
       "      <td>890.0</td>\n",
       "      <td>3151.0</td>\n",
       "      <td>810.0</td>\n",
       "      <td>3.0526</td>\n",
       "    </tr>\n",
       "    <tr>\n",
       "      <th>5498</th>\n",
       "      <td>-118.41</td>\n",
       "      <td>34.00</td>\n",
       "      <td>18.0</td>\n",
       "      <td>1307.0</td>\n",
       "      <td>441.0</td>\n",
       "      <td>884.0</td>\n",
       "      <td>456.0</td>\n",
       "      <td>2.9338</td>\n",
       "    </tr>\n",
       "  </tbody>\n",
       "</table>\n",
       "<p>9413 rows × 8 columns</p>\n",
       "</div>"
      ],
      "text/plain": [
       "       longitude  latitude  housing_median_age  total_rooms  total_bedrooms  \\\n",
       "19963    -119.14     36.23                22.0       2935.0           523.0   \n",
       "5929     -117.79     34.12                16.0       2426.0           426.0   \n",
       "11377    -117.97     33.68                26.0       3653.0           568.0   \n",
       "6443     -118.03     34.10                32.0       2668.0           609.0   \n",
       "17546    -121.87     37.34                39.0       2479.0           541.0   \n",
       "...          ...       ...                 ...          ...             ...   \n",
       "20157    -119.15     34.44                33.0       2005.0           392.0   \n",
       "20005    -119.13     36.13                28.0       1673.0           385.0   \n",
       "6691     -118.08     34.13                46.0       1238.0           147.0   \n",
       "3470     -118.46     34.29                24.0       3668.0           890.0   \n",
       "5498     -118.41     34.00                18.0       1307.0           441.0   \n",
       "\n",
       "       population  households  median_income  \n",
       "19963      1927.0       530.0         2.5875  \n",
       "5929       1319.0       446.0         4.8125  \n",
       "11377      1930.0       585.0         5.7301  \n",
       "6443       1512.0       541.0         2.9422  \n",
       "17546      1990.0       506.0         2.4306  \n",
       "...           ...         ...            ...  \n",
       "20157      1043.0       351.0         5.3080  \n",
       "20005      1434.0       371.0         2.0586  \n",
       "6691        377.0       145.0         8.4546  \n",
       "3470       3151.0       810.0         3.0526  \n",
       "5498        884.0       456.0         2.9338  \n",
       "\n",
       "[9413 rows x 8 columns]"
      ]
     },
     "execution_count": 18,
     "metadata": {},
     "output_type": "execute_result"
    }
   ],
   "source": [
    "df_train"
   ]
  },
  {
   "cell_type": "code",
   "execution_count": 17,
   "id": "14e9accb-1d2c-4288-a8c0-a09fb8519ffc",
   "metadata": {},
   "outputs": [
    {
     "data": {
      "text/plain": [
       "array([-1.1914e+02,  3.6230e+01,  2.2000e+01,  2.9350e+03,  5.2300e+02,\n",
       "        1.9270e+03,  5.3000e+02,  2.5875e+00])"
      ]
     },
     "execution_count": 17,
     "metadata": {},
     "output_type": "execute_result"
    }
   ],
   "source": [
    "X_train[0]"
   ]
  },
  {
   "cell_type": "code",
   "execution_count": 19,
   "id": "3c27f0d8-ff1f-4d74-8ee4-161a2c5183ea",
   "metadata": {},
   "outputs": [
    {
     "name": "stdout",
     "output_type": "stream",
     "text": [
      "validation: 0.34\n"
     ]
    }
   ],
   "source": [
    "X_val = prepare_X(df_val)\n",
    "y_pred = w_0 + X_val.dot(w)\n",
    "print('validation:', round(rmse(y_val, y_pred),2))"
   ]
  },
  {
   "cell_type": "markdown",
   "id": "ce58b134-dce2-430e-b862-ecad99fad1f0",
   "metadata": {},
   "source": [
    "#### Filling missing values with the mean"
   ]
  },
  {
   "cell_type": "code",
   "execution_count": 20,
   "id": "be256365-bc7b-4d2c-b695-076b340c9cfc",
   "metadata": {},
   "outputs": [
    {
     "name": "stdout",
     "output_type": "stream",
     "text": [
      "Mean number of total_bedrooms: 542.552956325786\n"
     ]
    }
   ],
   "source": [
    "train_mean = df_train[\"total_bedrooms\"].mean()\n",
    "print(\"Mean number of total_bedrooms:\",train_mean)\n",
    "X_train = prepare_X(df_train, train_mean)\n",
    "w_0, w = train_linear_regression_reg(X_train, y_train, r=0)"
   ]
  },
  {
   "cell_type": "code",
   "execution_count": 21,
   "id": "60766d69-f92f-4074-963a-c47765dd518f",
   "metadata": {},
   "outputs": [
    {
     "name": "stdout",
     "output_type": "stream",
     "text": [
      "validation: 0.34\n"
     ]
    }
   ],
   "source": [
    "X_val = prepare_X(df_val)\n",
    "y_pred = w_0 + X_val.dot(w)\n",
    "print('validation:', round(rmse(y_val, y_pred),2))"
   ]
  },
  {
   "cell_type": "code",
   "execution_count": 22,
   "id": "b56b3a18-d2f2-4df5-a541-130ea1f43036",
   "metadata": {},
   "outputs": [
    {
     "data": {
      "text/plain": [
       "'Missing values: 0.998619%'"
      ]
     },
     "execution_count": 22,
     "metadata": {},
     "output_type": "execute_result"
    }
   ],
   "source": [
    "f\"Missing values: {df_train.total_bedrooms.isna().sum()/len(df_train):%}\""
   ]
  },
  {
   "cell_type": "markdown",
   "id": "399ca873-83bc-41d2-b318-c41a6c015eab",
   "metadata": {},
   "source": [
    "Only less than 1% of rows has missing values so it may only makes a small difference how we fill them in."
   ]
  },
  {
   "cell_type": "markdown",
   "id": "6eeef4f8-c647-4377-bbb8-f94b291a7c8d",
   "metadata": {},
   "source": [
    "## Question 4\n",
    "Now let's train a regularized linear regression.<br>\n",
    "For this question, fill the NAs with 0.<br>\n",
    "Try different values of r from this list: [0, 0.000001, 0.0001, 0.001, 0.01, 0.1, 1, 5, 10].<br>\n",
    "Use RMSE to evaluate the model on the validation dataset.<br>\n",
    "Round the RMSE scores to 2 decimal digits.<br>\n",
    "Which r gives the best RMSE?<br>\n",
    "If there are multiple options, select the smallest r.<br>\n",
    "\n",
    "Options:\n",
    "- <b>0</b>\n",
    "- 0.000001\n",
    "- 0.001\n",
    "- 0.0001"
   ]
  },
  {
   "cell_type": "code",
   "execution_count": 23,
   "id": "0b74dc09-7093-4fa0-bbe9-c8c00135c4e6",
   "metadata": {},
   "outputs": [],
   "source": [
    "X_train = prepare_X(df_train)\n",
    "X_val = prepare_X(df_val)"
   ]
  },
  {
   "cell_type": "code",
   "execution_count": 24,
   "id": "4487836e-b66c-4f57-a309-12505a536c22",
   "metadata": {},
   "outputs": [
    {
     "name": "stdout",
     "output_type": "stream",
     "text": [
      "     0 0.3408 -9.76324947708778 -0.2559388020794665\n",
      " 1e-06 0.3408 -9.763228830944234 -0.2559385740405668\n",
      "0.0001 0.3408 -9.7611852355206 -0.255916002429005\n",
      " 0.001 0.3409 -9.742646249322865 -0.2557112384013837\n",
      "  0.01 0.3409 -9.56105619296396 -0.2537055667135632\n",
      "   0.1 0.3413 -8.058889769044278 -0.23711402152503339\n",
      "     1 0.3449 -3.133154278380411 -0.1827073985594345\n",
      "     5 0.3477 -0.8410867973986649 -0.15738181739328883\n",
      "    10 0.3483 -0.4381172315580547 -0.1529187322143991\n"
     ]
    }
   ],
   "source": [
    "for r in [0, 0.000001, 0.0001, 0.001, 0.01, 0.1, 1, 5, 10]:\n",
    "    w_0, w = train_linear_regression_reg(X_train, y_train, r=r)\n",
    "    y_pred = w_0 + X_val.dot(w)\n",
    "    print('%6s' %r, round(rmse(y_val, y_pred),4), w_0, w[0])"
   ]
  },
  {
   "cell_type": "markdown",
   "id": "7fda3854-0561-4084-ae11-13bb1e05beb8",
   "metadata": {},
   "source": [
    "## Question 5\n",
    "We used seed 42 for splitting the data. Let's find out how selecting the seed influences our score.<br>\n",
    "Try different seed values: [0, 1, 2, 3, 4, 5, 6, 7, 8, 9].<br>\n",
    "For each seed, do the train/validation/test split with 60%/20%/20% distribution.<br>\n",
    "Fill the missing values with 0 and train a model without regularization.<br>\n",
    "For each seed, evaluate the model on the validation dataset and collect the RMSE scores.<br>\n",
    "What's the standard deviation of all the scores? To compute the standard deviation, use np.std.<br>\n",
    "Round the result to 3 decimal digits (round(std, 3))<br>\n",
    "Note: Standard deviation shows how different the values are. If it's low, then all values are approximately the same. If it's high, the values are different. If standard deviation of scores is low, then our model is stable.<br>\n",
    "\n",
    "What's the value of std?<br>\n",
    "\n",
    "What's the value of std?\n",
    "- 0.5\n",
    "- 0.05\n",
    "- <b>0.005</b>\n",
    "- 0.0005\n",
    "\n",
    "Note: Standard deviation shows how different the values are. If it's low, then all values are approximately the same. If it's high, the values are different. If standard deviation of scores is low, then our model is stable."
   ]
  },
  {
   "cell_type": "code",
   "execution_count": 25,
   "id": "84d49eb6-4176-41e7-a42d-b08041274f47",
   "metadata": {},
   "outputs": [
    {
     "name": "stdout",
     "output_type": "stream",
     "text": [
      "     0 0.34\n",
      "     1 0.34\n",
      "     2 0.34\n",
      "     3 0.33\n",
      "     4 0.34\n",
      "     5 0.34\n",
      "     6 0.34\n",
      "     7 0.35\n",
      "     8 0.35\n",
      "     9 0.33\n",
      "Standard deviation of RMSE's: 0.005\n"
     ]
    }
   ],
   "source": [
    "rmse_s = []\n",
    "for s in [0, 1, 2, 3, 4, 5, 6, 7, 8, 9]:\n",
    "    np.random.seed(s)\n",
    "\n",
    "    n = len(df)\n",
    "    \n",
    "    n_val = int(0.2 * n)\n",
    "    n_test = int(0.2 * n)\n",
    "    n_train = n - (n_val + n_test)\n",
    "    \n",
    "    idx = np.arange(n)\n",
    "    np.random.shuffle(idx)\n",
    "    \n",
    "    df_shuffled = df.iloc[idx]\n",
    "    \n",
    "    df_train = df_shuffled.iloc[:n_train].copy()\n",
    "    df_val = df_shuffled.iloc[n_train:n_train+n_val].copy()\n",
    "    df_test = df_shuffled.iloc[n_train+n_val:].copy()\n",
    "\n",
    "    y_train_orig = df_train.median_house_value.values\n",
    "    y_val_orig = df_val.median_house_value.values\n",
    "    y_test_orig = df_test.median_house_value.values\n",
    "    \n",
    "    y_train = np.log1p(df_train.median_house_value.values)\n",
    "    y_val = np.log1p(df_val.median_house_value.values)\n",
    "    y_test = np.log1p(df_test.median_house_value.values)\n",
    "    \n",
    "    del df_train['median_house_value']\n",
    "    del df_val['median_house_value']\n",
    "    del df_test['median_house_value']\n",
    "    \n",
    "    X_train = prepare_X(df_train)\n",
    "    X_val = prepare_X(df_val)\n",
    "    w_0, w = train_linear_regression_reg(X_train, y_train, r=0)\n",
    "    y_pred = w_0 + X_val.dot(w)\n",
    "    RMSerror = rmse(y_val, y_pred)\n",
    "    print('%6s' %s, round(RMSerror,2))\n",
    "    rmse_s.append(RMSerror)    \n",
    "print('Standard deviation of RMSE\\'s:', round(np.std(rmse_s),3))"
   ]
  },
  {
   "cell_type": "markdown",
   "id": "37bab887-85a2-4a7d-acc1-62f8d8bc4fa9",
   "metadata": {},
   "source": [
    "## Question 6\n",
    "Split the dataset like previously, use seed 9.<br>\n",
    "Combine train and validation datasets.<br>\n",
    "Fill the missing values with 0 and train a model with r=0.001.<br>\n",
    "What's the RMSE on the test dataset?<br>\n",
    "\n",
    "Options:\n",
    "- 0.13\n",
    "- 0.23\n",
    "- <b>0.33</b>\n",
    "- 0.43"
   ]
  },
  {
   "cell_type": "code",
   "execution_count": 26,
   "id": "cb0fb2ca-066b-4f38-b59f-bcf32213711a",
   "metadata": {},
   "outputs": [
    {
     "name": "stdout",
     "output_type": "stream",
     "text": [
      "Validation RMSE: 0.33\n"
     ]
    }
   ],
   "source": [
    "seed = 9\n",
    "np.random.seed(seed)\n",
    "\n",
    "n = len(df)\n",
    "\n",
    "n_val = int(0.2 * n)\n",
    "n_test = int(0.2 * n)\n",
    "n_train = n - (n_val + n_test)\n",
    "\n",
    "idx = np.arange(n)\n",
    "np.random.shuffle(idx)\n",
    "\n",
    "df_shuffled = df.iloc[idx]\n",
    "\n",
    "df_train = df_shuffled.iloc[:n_train].copy()\n",
    "df_val = df_shuffled.iloc[n_train:n_train+n_val].copy()\n",
    "df_test = df_shuffled.iloc[n_train+n_val:].copy()\n",
    "\n",
    "y_train_orig = df_train.median_house_value.values\n",
    "y_val_orig = df_val.median_house_value.values\n",
    "y_test_orig = df_test.median_house_value.values\n",
    "\n",
    "y_train = np.log1p(df_train.median_house_value.values)\n",
    "y_val = np.log1p(df_val.median_house_value.values)\n",
    "y_test = np.log1p(df_test.median_house_value.values)\n",
    "\n",
    "del df_train['median_house_value']\n",
    "del df_val['median_house_value']\n",
    "del df_test['median_house_value']\n",
    "\n",
    "df_full_train = pd.concat([df_train,df_val])\n",
    "df_full_train = df_full_train.reset_index(drop=True)\n",
    "X_full_train = prepare_X(df_full_train)\n",
    "y_full_train = np.concatenate([y_train, y_val])\n",
    "X_test = prepare_X(df_test)\n",
    "w_0, w = train_linear_regression_reg(X_full_train, y_full_train, r=0.001)\n",
    "y_pred_test = w_0 + X_test.dot(w)\n",
    "print(\"Validation RMSE:\", round(rmse(y_test, y_pred_test),2))"
   ]
  }
 ],
 "metadata": {
  "kernelspec": {
   "display_name": "Python 3 (ipykernel)",
   "language": "python",
   "name": "python3"
  },
  "language_info": {
   "codemirror_mode": {
    "name": "ipython",
    "version": 3
   },
   "file_extension": ".py",
   "mimetype": "text/x-python",
   "name": "python",
   "nbconvert_exporter": "python",
   "pygments_lexer": "ipython3",
   "version": "3.9.18"
  }
 },
 "nbformat": 4,
 "nbformat_minor": 5
}
