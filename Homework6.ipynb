{
 "cells": [
  {
   "cell_type": "markdown",
   "id": "2b8c2f38-c8f2-451c-825a-8b1492cd0397",
   "metadata": {},
   "source": [
    "# Homework 6\n",
    "- Student: Aleksandra Kocot\n",
    " - [Git Hub page with the Homework Week6 questions](https://github.com/DataTalksClub/machine-learning-zoomcamp/blob/master/cohorts/2023/06-trees/homework.md)"
   ]
  },
  {
   "cell_type": "code",
   "execution_count": null,
   "id": "5b5dde4f-f9f1-4975-9e11-5a1f3109709d",
   "metadata": {},
   "outputs": [],
   "source": [
    "!wget https://raw.githubusercontent.com/alexeygrigorev/datasets/master/housing.csv"
   ]
  },
  {
   "cell_type": "markdown",
   "id": "9c3f191f-b0dd-4b66-8614-3fe0f2be3b2f",
   "metadata": {},
   "source": [
    "The goal of this homework is to create a regression model for predicting housing prices (column <b>'median_house_value'</b>).\n",
    "\n",
    "### Preparing the dataset\n",
    "For this homework, we only want to use a subset of data. This is the same subset we used in homework #2. But in contrast to homework #2, we are going to use all columns of the dataset.\n",
    "\n",
    "First, keep only the records where ocean_proximity is either '<1H OCEAN' or 'INLAND'\n",
    "\n",
    "##### Preparation:\n",
    "\n",
    "Fill missing values with zeros.\n",
    "Apply the log transform to median_house_value.\n",
    "Do train/validation/test split with 60%/20%/20% distribution.\n",
    "Use the train_test_split function and set the random_state parameter to 1.\n",
    "Use DictVectorizer(sparse=True) to turn the dataframes into matrices."
   ]
  },
  {
   "cell_type": "code",
   "execution_count": 1,
   "id": "f31f593e-ceb5-4d68-812e-72d9997582a3",
   "metadata": {},
   "outputs": [],
   "source": [
    "import numpy as np\n",
    "import pandas as pd\n",
    "import matplotlib.pyplot as plt\n",
    "\n",
    "from sklearn.model_selection import train_test_split\n",
    "from sklearn.feature_extraction import DictVectorizer\n",
    "from sklearn.tree import DecisionTreeRegressor\n",
    "from sklearn.tree import export_text\n",
    "from sklearn.ensemble import RandomForestRegressor\n",
    "from sklearn.metrics import mean_squared_error\n",
    "\n",
    "import xgboost as xgb"
   ]
  },
  {
   "cell_type": "code",
   "execution_count": 2,
   "id": "8df232d5-5dd6-4899-8fe5-d85f744f075a",
   "metadata": {},
   "outputs": [],
   "source": [
    "df = pd.read_csv(\"housing.csv\")"
   ]
  },
  {
   "cell_type": "code",
   "execution_count": 3,
   "id": "8b989d9b-a566-4e12-8eea-1f75473f5e09",
   "metadata": {},
   "outputs": [
    {
     "data": {
      "text/html": [
       "<div>\n",
       "<style scoped>\n",
       "    .dataframe tbody tr th:only-of-type {\n",
       "        vertical-align: middle;\n",
       "    }\n",
       "\n",
       "    .dataframe tbody tr th {\n",
       "        vertical-align: top;\n",
       "    }\n",
       "\n",
       "    .dataframe thead th {\n",
       "        text-align: right;\n",
       "    }\n",
       "</style>\n",
       "<table border=\"1\" class=\"dataframe\">\n",
       "  <thead>\n",
       "    <tr style=\"text-align: right;\">\n",
       "      <th></th>\n",
       "      <th>longitude</th>\n",
       "      <th>latitude</th>\n",
       "      <th>housing_median_age</th>\n",
       "      <th>total_rooms</th>\n",
       "      <th>total_bedrooms</th>\n",
       "      <th>population</th>\n",
       "      <th>households</th>\n",
       "      <th>median_income</th>\n",
       "      <th>median_house_value</th>\n",
       "      <th>ocean_proximity</th>\n",
       "    </tr>\n",
       "  </thead>\n",
       "  <tbody>\n",
       "    <tr>\n",
       "      <th>0</th>\n",
       "      <td>-122.23</td>\n",
       "      <td>37.88</td>\n",
       "      <td>41.0</td>\n",
       "      <td>880.0</td>\n",
       "      <td>129.0</td>\n",
       "      <td>322.0</td>\n",
       "      <td>126.0</td>\n",
       "      <td>8.3252</td>\n",
       "      <td>452600.0</td>\n",
       "      <td>NEAR BAY</td>\n",
       "    </tr>\n",
       "    <tr>\n",
       "      <th>1</th>\n",
       "      <td>-122.22</td>\n",
       "      <td>37.86</td>\n",
       "      <td>21.0</td>\n",
       "      <td>7099.0</td>\n",
       "      <td>1106.0</td>\n",
       "      <td>2401.0</td>\n",
       "      <td>1138.0</td>\n",
       "      <td>8.3014</td>\n",
       "      <td>358500.0</td>\n",
       "      <td>NEAR BAY</td>\n",
       "    </tr>\n",
       "    <tr>\n",
       "      <th>2</th>\n",
       "      <td>-122.24</td>\n",
       "      <td>37.85</td>\n",
       "      <td>52.0</td>\n",
       "      <td>1467.0</td>\n",
       "      <td>190.0</td>\n",
       "      <td>496.0</td>\n",
       "      <td>177.0</td>\n",
       "      <td>7.2574</td>\n",
       "      <td>352100.0</td>\n",
       "      <td>NEAR BAY</td>\n",
       "    </tr>\n",
       "    <tr>\n",
       "      <th>3</th>\n",
       "      <td>-122.25</td>\n",
       "      <td>37.85</td>\n",
       "      <td>52.0</td>\n",
       "      <td>1274.0</td>\n",
       "      <td>235.0</td>\n",
       "      <td>558.0</td>\n",
       "      <td>219.0</td>\n",
       "      <td>5.6431</td>\n",
       "      <td>341300.0</td>\n",
       "      <td>NEAR BAY</td>\n",
       "    </tr>\n",
       "    <tr>\n",
       "      <th>4</th>\n",
       "      <td>-122.25</td>\n",
       "      <td>37.85</td>\n",
       "      <td>52.0</td>\n",
       "      <td>1627.0</td>\n",
       "      <td>280.0</td>\n",
       "      <td>565.0</td>\n",
       "      <td>259.0</td>\n",
       "      <td>3.8462</td>\n",
       "      <td>342200.0</td>\n",
       "      <td>NEAR BAY</td>\n",
       "    </tr>\n",
       "  </tbody>\n",
       "</table>\n",
       "</div>"
      ],
      "text/plain": [
       "   longitude  latitude  housing_median_age  total_rooms  total_bedrooms  \\\n",
       "0    -122.23     37.88                41.0        880.0           129.0   \n",
       "1    -122.22     37.86                21.0       7099.0          1106.0   \n",
       "2    -122.24     37.85                52.0       1467.0           190.0   \n",
       "3    -122.25     37.85                52.0       1274.0           235.0   \n",
       "4    -122.25     37.85                52.0       1627.0           280.0   \n",
       "\n",
       "   population  households  median_income  median_house_value ocean_proximity  \n",
       "0       322.0       126.0         8.3252            452600.0        NEAR BAY  \n",
       "1      2401.0      1138.0         8.3014            358500.0        NEAR BAY  \n",
       "2       496.0       177.0         7.2574            352100.0        NEAR BAY  \n",
       "3       558.0       219.0         5.6431            341300.0        NEAR BAY  \n",
       "4       565.0       259.0         3.8462            342200.0        NEAR BAY  "
      ]
     },
     "execution_count": 3,
     "metadata": {},
     "output_type": "execute_result"
    }
   ],
   "source": [
    "df.head()"
   ]
  },
  {
   "cell_type": "code",
   "execution_count": 4,
   "id": "e8c9cc34-2f8b-4083-8269-9c433d11e0d8",
   "metadata": {},
   "outputs": [
    {
     "data": {
      "text/plain": [
       "(20640, 10)"
      ]
     },
     "execution_count": 4,
     "metadata": {},
     "output_type": "execute_result"
    }
   ],
   "source": [
    "df.shape"
   ]
  },
  {
   "cell_type": "code",
   "execution_count": 5,
   "id": "18678834-81d4-4791-ad10-57dda250f17f",
   "metadata": {},
   "outputs": [],
   "source": [
    "df = df.loc[df.ocean_proximity.isin(['<1H OCEAN','INLAND'])]"
   ]
  },
  {
   "cell_type": "code",
   "execution_count": 6,
   "id": "294c26a2-160c-431d-ae62-7e9ea8ba5171",
   "metadata": {},
   "outputs": [
    {
     "data": {
      "text/plain": [
       "(15687, 10)"
      ]
     },
     "execution_count": 6,
     "metadata": {},
     "output_type": "execute_result"
    }
   ],
   "source": [
    "df.shape"
   ]
  },
  {
   "cell_type": "code",
   "execution_count": 7,
   "id": "20880865-677b-46b5-a66e-d7879271d7ab",
   "metadata": {},
   "outputs": [
    {
     "data": {
      "text/plain": [
       "longitude               0\n",
       "latitude                0\n",
       "housing_median_age      0\n",
       "total_rooms             0\n",
       "total_bedrooms        157\n",
       "population              0\n",
       "households              0\n",
       "median_income           0\n",
       "median_house_value      0\n",
       "ocean_proximity         0\n",
       "dtype: int64"
      ]
     },
     "execution_count": 7,
     "metadata": {},
     "output_type": "execute_result"
    }
   ],
   "source": [
    "df.isna().sum()"
   ]
  },
  {
   "cell_type": "code",
   "execution_count": 8,
   "id": "c97547cc-c256-43e5-8202-75391345daac",
   "metadata": {},
   "outputs": [],
   "source": [
    "df = df.fillna(0)"
   ]
  },
  {
   "cell_type": "code",
   "execution_count": 9,
   "id": "8bf52979-8161-4010-a8f2-99af01f6cce4",
   "metadata": {},
   "outputs": [
    {
     "data": {
      "text/plain": [
       "longitude             0\n",
       "latitude              0\n",
       "housing_median_age    0\n",
       "total_rooms           0\n",
       "total_bedrooms        0\n",
       "population            0\n",
       "households            0\n",
       "median_income         0\n",
       "median_house_value    0\n",
       "ocean_proximity       0\n",
       "dtype: int64"
      ]
     },
     "execution_count": 9,
     "metadata": {},
     "output_type": "execute_result"
    }
   ],
   "source": [
    "df.isna().sum()"
   ]
  },
  {
   "cell_type": "code",
   "execution_count": 10,
   "id": "ed0ac452-900e-4b33-9b55-c1f28f5298b2",
   "metadata": {},
   "outputs": [],
   "source": [
    "df_full, df_test = train_test_split(df, test_size=0.2, random_state=1)\n",
    "df_train, df_val = train_test_split(df_full, test_size=0.25, random_state=1)\n",
    "\n",
    "df_train = df_train.reset_index(drop=True)\n",
    "df_val = df_val.reset_index(drop=True)\n",
    "df_test = df_test.reset_index(drop=True)\n",
    "\n",
    "y_train = np.log1p(df_train.median_house_value.values)\n",
    "y_val = np.log1p(df_val.median_house_value.values)\n",
    "y_test = np.log1p(df_test.median_house_value.values)\n",
    "\n",
    "del df_train[\"median_house_value\"] \n",
    "del df_val[\"median_house_value\"]\n",
    "del df_test[\"median_house_value\"] "
   ]
  },
  {
   "cell_type": "code",
   "execution_count": 12,
   "id": "9a545cb7-6844-449d-a339-c5df1cb68157",
   "metadata": {},
   "outputs": [
    {
     "data": {
      "text/html": [
       "<div>\n",
       "<style scoped>\n",
       "    .dataframe tbody tr th:only-of-type {\n",
       "        vertical-align: middle;\n",
       "    }\n",
       "\n",
       "    .dataframe tbody tr th {\n",
       "        vertical-align: top;\n",
       "    }\n",
       "\n",
       "    .dataframe thead th {\n",
       "        text-align: right;\n",
       "    }\n",
       "</style>\n",
       "<table border=\"1\" class=\"dataframe\">\n",
       "  <thead>\n",
       "    <tr style=\"text-align: right;\">\n",
       "      <th></th>\n",
       "      <th>longitude</th>\n",
       "      <th>latitude</th>\n",
       "      <th>housing_median_age</th>\n",
       "      <th>total_rooms</th>\n",
       "      <th>total_bedrooms</th>\n",
       "      <th>population</th>\n",
       "      <th>households</th>\n",
       "      <th>median_income</th>\n",
       "      <th>ocean_proximity</th>\n",
       "    </tr>\n",
       "  </thead>\n",
       "  <tbody>\n",
       "    <tr>\n",
       "      <th>0</th>\n",
       "      <td>-120.25</td>\n",
       "      <td>37.93</td>\n",
       "      <td>13.0</td>\n",
       "      <td>493.0</td>\n",
       "      <td>76.0</td>\n",
       "      <td>196.0</td>\n",
       "      <td>68.0</td>\n",
       "      <td>3.3750</td>\n",
       "      <td>INLAND</td>\n",
       "    </tr>\n",
       "    <tr>\n",
       "      <th>1</th>\n",
       "      <td>-118.40</td>\n",
       "      <td>34.00</td>\n",
       "      <td>10.0</td>\n",
       "      <td>1526.0</td>\n",
       "      <td>339.0</td>\n",
       "      <td>705.0</td>\n",
       "      <td>268.0</td>\n",
       "      <td>5.8083</td>\n",
       "      <td>&lt;1H OCEAN</td>\n",
       "    </tr>\n",
       "    <tr>\n",
       "      <th>2</th>\n",
       "      <td>-121.67</td>\n",
       "      <td>38.85</td>\n",
       "      <td>46.0</td>\n",
       "      <td>645.0</td>\n",
       "      <td>131.0</td>\n",
       "      <td>410.0</td>\n",
       "      <td>122.0</td>\n",
       "      <td>1.7417</td>\n",
       "      <td>INLAND</td>\n",
       "    </tr>\n",
       "    <tr>\n",
       "      <th>3</th>\n",
       "      <td>-118.14</td>\n",
       "      <td>33.88</td>\n",
       "      <td>24.0</td>\n",
       "      <td>3305.0</td>\n",
       "      <td>982.0</td>\n",
       "      <td>2085.0</td>\n",
       "      <td>881.0</td>\n",
       "      <td>2.6641</td>\n",
       "      <td>&lt;1H OCEAN</td>\n",
       "    </tr>\n",
       "    <tr>\n",
       "      <th>4</th>\n",
       "      <td>-118.11</td>\n",
       "      <td>33.92</td>\n",
       "      <td>34.0</td>\n",
       "      <td>1414.0</td>\n",
       "      <td>263.0</td>\n",
       "      <td>983.0</td>\n",
       "      <td>264.0</td>\n",
       "      <td>4.1767</td>\n",
       "      <td>&lt;1H OCEAN</td>\n",
       "    </tr>\n",
       "  </tbody>\n",
       "</table>\n",
       "</div>"
      ],
      "text/plain": [
       "   longitude  latitude  housing_median_age  total_rooms  total_bedrooms  \\\n",
       "0    -120.25     37.93                13.0        493.0            76.0   \n",
       "1    -118.40     34.00                10.0       1526.0           339.0   \n",
       "2    -121.67     38.85                46.0        645.0           131.0   \n",
       "3    -118.14     33.88                24.0       3305.0           982.0   \n",
       "4    -118.11     33.92                34.0       1414.0           263.0   \n",
       "\n",
       "   population  households  median_income ocean_proximity  \n",
       "0       196.0        68.0         3.3750          INLAND  \n",
       "1       705.0       268.0         5.8083       <1H OCEAN  \n",
       "2       410.0       122.0         1.7417          INLAND  \n",
       "3      2085.0       881.0         2.6641       <1H OCEAN  \n",
       "4       983.0       264.0         4.1767       <1H OCEAN  "
      ]
     },
     "execution_count": 12,
     "metadata": {},
     "output_type": "execute_result"
    }
   ],
   "source": [
    "df_train.head()"
   ]
  },
  {
   "cell_type": "markdown",
   "id": "7bad536f-dfdf-4711-a217-175bacbd5b9f",
   "metadata": {},
   "source": [
    "##### Turn the dataframes into matrices"
   ]
  },
  {
   "cell_type": "code",
   "execution_count": 13,
   "id": "55bd8fb2-e437-4b55-87d6-34ca000950f3",
   "metadata": {},
   "outputs": [],
   "source": [
    "train_dict = df_train.to_dict(orient='records')\n",
    "dv = DictVectorizer(sparse=True)\n",
    "dv.fit(train_dict)\n",
    "X_train = dv.transform(train_dict)"
   ]
  },
  {
   "cell_type": "code",
   "execution_count": 14,
   "id": "f1d70c61-af13-4fcd-9277-44ec9c9c0ad8",
   "metadata": {},
   "outputs": [
    {
     "data": {
      "text/plain": [
       "<9411x10 sparse matrix of type '<class 'numpy.float64'>'\n",
       "\twith 84699 stored elements in Compressed Sparse Row format>"
      ]
     },
     "execution_count": 14,
     "metadata": {},
     "output_type": "execute_result"
    }
   ],
   "source": [
    "X_train"
   ]
  },
  {
   "cell_type": "markdown",
   "id": "38aece22-140d-4947-9e34-bfbd1fa04d9a",
   "metadata": {},
   "source": [
    "## Question 1\n",
    "Let's train a decision tree regressor to predict the median_house_value variable.\n",
    "\n",
    "Train a model with max_depth=1.<br>\n",
    "Which feature is used for splitting the data?\n",
    "- <b>ocean_proximity</b>\n",
    "- total_rooms\n",
    "- latitude\n",
    "- population"
   ]
  },
  {
   "cell_type": "code",
   "execution_count": 14,
   "id": "52ffb89a-35a9-4235-9a16-eb8059c8b680",
   "metadata": {},
   "outputs": [
    {
     "data": {
      "text/html": [
       "<style>#sk-container-id-1 {color: black;}#sk-container-id-1 pre{padding: 0;}#sk-container-id-1 div.sk-toggleable {background-color: white;}#sk-container-id-1 label.sk-toggleable__label {cursor: pointer;display: block;width: 100%;margin-bottom: 0;padding: 0.3em;box-sizing: border-box;text-align: center;}#sk-container-id-1 label.sk-toggleable__label-arrow:before {content: \"▸\";float: left;margin-right: 0.25em;color: #696969;}#sk-container-id-1 label.sk-toggleable__label-arrow:hover:before {color: black;}#sk-container-id-1 div.sk-estimator:hover label.sk-toggleable__label-arrow:before {color: black;}#sk-container-id-1 div.sk-toggleable__content {max-height: 0;max-width: 0;overflow: hidden;text-align: left;background-color: #f0f8ff;}#sk-container-id-1 div.sk-toggleable__content pre {margin: 0.2em;color: black;border-radius: 0.25em;background-color: #f0f8ff;}#sk-container-id-1 input.sk-toggleable__control:checked~div.sk-toggleable__content {max-height: 200px;max-width: 100%;overflow: auto;}#sk-container-id-1 input.sk-toggleable__control:checked~label.sk-toggleable__label-arrow:before {content: \"▾\";}#sk-container-id-1 div.sk-estimator input.sk-toggleable__control:checked~label.sk-toggleable__label {background-color: #d4ebff;}#sk-container-id-1 div.sk-label input.sk-toggleable__control:checked~label.sk-toggleable__label {background-color: #d4ebff;}#sk-container-id-1 input.sk-hidden--visually {border: 0;clip: rect(1px 1px 1px 1px);clip: rect(1px, 1px, 1px, 1px);height: 1px;margin: -1px;overflow: hidden;padding: 0;position: absolute;width: 1px;}#sk-container-id-1 div.sk-estimator {font-family: monospace;background-color: #f0f8ff;border: 1px dotted black;border-radius: 0.25em;box-sizing: border-box;margin-bottom: 0.5em;}#sk-container-id-1 div.sk-estimator:hover {background-color: #d4ebff;}#sk-container-id-1 div.sk-parallel-item::after {content: \"\";width: 100%;border-bottom: 1px solid gray;flex-grow: 1;}#sk-container-id-1 div.sk-label:hover label.sk-toggleable__label {background-color: #d4ebff;}#sk-container-id-1 div.sk-serial::before {content: \"\";position: absolute;border-left: 1px solid gray;box-sizing: border-box;top: 0;bottom: 0;left: 50%;z-index: 0;}#sk-container-id-1 div.sk-serial {display: flex;flex-direction: column;align-items: center;background-color: white;padding-right: 0.2em;padding-left: 0.2em;position: relative;}#sk-container-id-1 div.sk-item {position: relative;z-index: 1;}#sk-container-id-1 div.sk-parallel {display: flex;align-items: stretch;justify-content: center;background-color: white;position: relative;}#sk-container-id-1 div.sk-item::before, #sk-container-id-1 div.sk-parallel-item::before {content: \"\";position: absolute;border-left: 1px solid gray;box-sizing: border-box;top: 0;bottom: 0;left: 50%;z-index: -1;}#sk-container-id-1 div.sk-parallel-item {display: flex;flex-direction: column;z-index: 1;position: relative;background-color: white;}#sk-container-id-1 div.sk-parallel-item:first-child::after {align-self: flex-end;width: 50%;}#sk-container-id-1 div.sk-parallel-item:last-child::after {align-self: flex-start;width: 50%;}#sk-container-id-1 div.sk-parallel-item:only-child::after {width: 0;}#sk-container-id-1 div.sk-dashed-wrapped {border: 1px dashed gray;margin: 0 0.4em 0.5em 0.4em;box-sizing: border-box;padding-bottom: 0.4em;background-color: white;}#sk-container-id-1 div.sk-label label {font-family: monospace;font-weight: bold;display: inline-block;line-height: 1.2em;}#sk-container-id-1 div.sk-label-container {text-align: center;}#sk-container-id-1 div.sk-container {/* jupyter's `normalize.less` sets `[hidden] { display: none; }` but bootstrap.min.css set `[hidden] { display: none !important; }` so we also need the `!important` here to be able to override the default hidden behavior on the sphinx rendered scikit-learn.org. See: https://github.com/scikit-learn/scikit-learn/issues/21755 */display: inline-block !important;position: relative;}#sk-container-id-1 div.sk-text-repr-fallback {display: none;}</style><div id=\"sk-container-id-1\" class=\"sk-top-container\"><div class=\"sk-text-repr-fallback\"><pre>DecisionTreeRegressor(max_depth=1)</pre><b>In a Jupyter environment, please rerun this cell to show the HTML representation or trust the notebook. <br />On GitHub, the HTML representation is unable to render, please try loading this page with nbviewer.org.</b></div><div class=\"sk-container\" hidden><div class=\"sk-item\"><div class=\"sk-estimator sk-toggleable\"><input class=\"sk-toggleable__control sk-hidden--visually\" id=\"sk-estimator-id-1\" type=\"checkbox\" checked><label for=\"sk-estimator-id-1\" class=\"sk-toggleable__label sk-toggleable__label-arrow\">DecisionTreeRegressor</label><div class=\"sk-toggleable__content\"><pre>DecisionTreeRegressor(max_depth=1)</pre></div></div></div></div></div>"
      ],
      "text/plain": [
       "DecisionTreeRegressor(max_depth=1)"
      ]
     },
     "execution_count": 14,
     "metadata": {},
     "output_type": "execute_result"
    }
   ],
   "source": [
    "model = DecisionTreeRegressor(max_depth=1)\n",
    "model.fit(X_train, y_train)"
   ]
  },
  {
   "cell_type": "code",
   "execution_count": 15,
   "id": "c6371898-e7ab-4bed-af64-09e0cfb7e159",
   "metadata": {},
   "outputs": [
    {
     "name": "stdout",
     "output_type": "stream",
     "text": [
      "|--- ocean_proximity=<1H OCEAN <= 0.50\n",
      "|   |--- value: [11.61]\n",
      "|--- ocean_proximity=<1H OCEAN >  0.50\n",
      "|   |--- value: [12.30]\n",
      "\n"
     ]
    }
   ],
   "source": [
    "print(export_text(model, feature_names=list(dv.get_feature_names_out())))"
   ]
  },
  {
   "cell_type": "markdown",
   "id": "810e5e72-cbec-47fc-88dc-26c4f2b9c89c",
   "metadata": {},
   "source": [
    "## Question 2\n",
    "Train a random forest model with these parameters:\n",
    "\n",
    "n_estimators=10\n",
    "random_state=1\n",
    "n_jobs=-1 (optional - to make training faster)<br>\n",
    "What's the RMSE of this model on validation?\n",
    "- 0.045\n",
    "- <b>0.245</b>\n",
    "- 0.545\n",
    "- 0.845"
   ]
  },
  {
   "cell_type": "code",
   "execution_count": 19,
   "id": "5728f8ed-c8bd-40d4-ad23-639aa16f61da",
   "metadata": {},
   "outputs": [
    {
     "data": {
      "text/html": [
       "<style>#sk-container-id-2 {color: black;}#sk-container-id-2 pre{padding: 0;}#sk-container-id-2 div.sk-toggleable {background-color: white;}#sk-container-id-2 label.sk-toggleable__label {cursor: pointer;display: block;width: 100%;margin-bottom: 0;padding: 0.3em;box-sizing: border-box;text-align: center;}#sk-container-id-2 label.sk-toggleable__label-arrow:before {content: \"▸\";float: left;margin-right: 0.25em;color: #696969;}#sk-container-id-2 label.sk-toggleable__label-arrow:hover:before {color: black;}#sk-container-id-2 div.sk-estimator:hover label.sk-toggleable__label-arrow:before {color: black;}#sk-container-id-2 div.sk-toggleable__content {max-height: 0;max-width: 0;overflow: hidden;text-align: left;background-color: #f0f8ff;}#sk-container-id-2 div.sk-toggleable__content pre {margin: 0.2em;color: black;border-radius: 0.25em;background-color: #f0f8ff;}#sk-container-id-2 input.sk-toggleable__control:checked~div.sk-toggleable__content {max-height: 200px;max-width: 100%;overflow: auto;}#sk-container-id-2 input.sk-toggleable__control:checked~label.sk-toggleable__label-arrow:before {content: \"▾\";}#sk-container-id-2 div.sk-estimator input.sk-toggleable__control:checked~label.sk-toggleable__label {background-color: #d4ebff;}#sk-container-id-2 div.sk-label input.sk-toggleable__control:checked~label.sk-toggleable__label {background-color: #d4ebff;}#sk-container-id-2 input.sk-hidden--visually {border: 0;clip: rect(1px 1px 1px 1px);clip: rect(1px, 1px, 1px, 1px);height: 1px;margin: -1px;overflow: hidden;padding: 0;position: absolute;width: 1px;}#sk-container-id-2 div.sk-estimator {font-family: monospace;background-color: #f0f8ff;border: 1px dotted black;border-radius: 0.25em;box-sizing: border-box;margin-bottom: 0.5em;}#sk-container-id-2 div.sk-estimator:hover {background-color: #d4ebff;}#sk-container-id-2 div.sk-parallel-item::after {content: \"\";width: 100%;border-bottom: 1px solid gray;flex-grow: 1;}#sk-container-id-2 div.sk-label:hover label.sk-toggleable__label {background-color: #d4ebff;}#sk-container-id-2 div.sk-serial::before {content: \"\";position: absolute;border-left: 1px solid gray;box-sizing: border-box;top: 0;bottom: 0;left: 50%;z-index: 0;}#sk-container-id-2 div.sk-serial {display: flex;flex-direction: column;align-items: center;background-color: white;padding-right: 0.2em;padding-left: 0.2em;position: relative;}#sk-container-id-2 div.sk-item {position: relative;z-index: 1;}#sk-container-id-2 div.sk-parallel {display: flex;align-items: stretch;justify-content: center;background-color: white;position: relative;}#sk-container-id-2 div.sk-item::before, #sk-container-id-2 div.sk-parallel-item::before {content: \"\";position: absolute;border-left: 1px solid gray;box-sizing: border-box;top: 0;bottom: 0;left: 50%;z-index: -1;}#sk-container-id-2 div.sk-parallel-item {display: flex;flex-direction: column;z-index: 1;position: relative;background-color: white;}#sk-container-id-2 div.sk-parallel-item:first-child::after {align-self: flex-end;width: 50%;}#sk-container-id-2 div.sk-parallel-item:last-child::after {align-self: flex-start;width: 50%;}#sk-container-id-2 div.sk-parallel-item:only-child::after {width: 0;}#sk-container-id-2 div.sk-dashed-wrapped {border: 1px dashed gray;margin: 0 0.4em 0.5em 0.4em;box-sizing: border-box;padding-bottom: 0.4em;background-color: white;}#sk-container-id-2 div.sk-label label {font-family: monospace;font-weight: bold;display: inline-block;line-height: 1.2em;}#sk-container-id-2 div.sk-label-container {text-align: center;}#sk-container-id-2 div.sk-container {/* jupyter's `normalize.less` sets `[hidden] { display: none; }` but bootstrap.min.css set `[hidden] { display: none !important; }` so we also need the `!important` here to be able to override the default hidden behavior on the sphinx rendered scikit-learn.org. See: https://github.com/scikit-learn/scikit-learn/issues/21755 */display: inline-block !important;position: relative;}#sk-container-id-2 div.sk-text-repr-fallback {display: none;}</style><div id=\"sk-container-id-2\" class=\"sk-top-container\"><div class=\"sk-text-repr-fallback\"><pre>RandomForestRegressor(n_estimators=10, n_jobs=-1, random_state=1)</pre><b>In a Jupyter environment, please rerun this cell to show the HTML representation or trust the notebook. <br />On GitHub, the HTML representation is unable to render, please try loading this page with nbviewer.org.</b></div><div class=\"sk-container\" hidden><div class=\"sk-item\"><div class=\"sk-estimator sk-toggleable\"><input class=\"sk-toggleable__control sk-hidden--visually\" id=\"sk-estimator-id-2\" type=\"checkbox\" checked><label for=\"sk-estimator-id-2\" class=\"sk-toggleable__label sk-toggleable__label-arrow\">RandomForestRegressor</label><div class=\"sk-toggleable__content\"><pre>RandomForestRegressor(n_estimators=10, n_jobs=-1, random_state=1)</pre></div></div></div></div></div>"
      ],
      "text/plain": [
       "RandomForestRegressor(n_estimators=10, n_jobs=-1, random_state=1)"
      ]
     },
     "execution_count": 19,
     "metadata": {},
     "output_type": "execute_result"
    }
   ],
   "source": [
    "model_rf = RandomForestRegressor(n_estimators=10, random_state=1, n_jobs=-1)\n",
    "model_rf.fit(X_train, y_train)"
   ]
  },
  {
   "cell_type": "code",
   "execution_count": 24,
   "id": "919d8702-9ab7-4735-b0d7-fcff9a64c093",
   "metadata": {},
   "outputs": [
    {
     "name": "stdout",
     "output_type": "stream",
     "text": [
      "0.245\n"
     ]
    }
   ],
   "source": [
    "val_dict = df_val.to_dict(orient='records')\n",
    "X_val = dv.transform(val_dict)\n",
    "y_pred = model_rf.predict(X_val)\n",
    "\n",
    "rmse = np.sqrt(mean_squared_error(y_val, y_pred))\n",
    "print(round(rmse,3))"
   ]
  },
  {
   "cell_type": "markdown",
   "id": "bd7c5eb1-39fe-4a73-afc8-f1d38e4e0988",
   "metadata": {},
   "source": [
    "## Question 3\n",
    "Now let's experiment with the n_estimators parameter\n",
    "\n",
    "Try different values of this parameter from 10 to 200 with step 10.\n",
    "Set random_state to 1.\n",
    "Evaluate the model on the validation dataset.<br>\n",
    "After which value of n_estimators does RMSE stop improving? Consider 3 decimal places for retrieving the answer.\n",
    "- 10\n",
    "- 25\n",
    "- 50\n",
    "- <b>160</b>"
   ]
  },
  {
   "cell_type": "code",
   "execution_count": 29,
   "id": "169ecb65-7bc3-4fcb-b68e-e2965fc86c21",
   "metadata": {},
   "outputs": [
    {
     "data": {
      "text/plain": [
       "array([ 10,  20,  30,  40,  50,  60,  70,  80,  90, 100, 110, 120, 130,\n",
       "       140, 150, 160, 170, 180, 190, 200])"
      ]
     },
     "execution_count": 29,
     "metadata": {},
     "output_type": "execute_result"
    }
   ],
   "source": [
    "estimators = np.arange(10,210,10)\n",
    "estimators"
   ]
  },
  {
   "cell_type": "code",
   "execution_count": 30,
   "id": "d0dc7582-5250-412a-bb6e-178fcd408900",
   "metadata": {},
   "outputs": [],
   "source": [
    "res = []\n",
    "for e in estimators:\n",
    "    model_rf = RandomForestRegressor(n_estimators=e, random_state=1, n_jobs=-1)\n",
    "    model_rf.fit(X_train, y_train)\n",
    "    \n",
    "    val_dict = df_val.to_dict(orient='records')\n",
    "    X_val = dv.transform(val_dict)\n",
    "    y_pred = model_rf.predict(X_val)\n",
    "    \n",
    "    rmse = np.sqrt(mean_squared_error(y_val, y_pred))\n",
    "    res.append((e,round(rmse,3)))"
   ]
  },
  {
   "cell_type": "code",
   "execution_count": 37,
   "id": "5689a748-200a-483f-b26a-4f9d4c59a1ef",
   "metadata": {},
   "outputs": [
    {
     "data": {
      "text/html": [
       "<style type=\"text/css\">\n",
       "#T_6331f_row0_col0 {\n",
       "  background-color: #023858;\n",
       "  color: #f1f1f1;\n",
       "}\n",
       "#T_6331f_row1_col0 {\n",
       "  background-color: #96b6d7;\n",
       "  color: #000000;\n",
       "}\n",
       "#T_6331f_row2_col0 {\n",
       "  background-color: #b4c4df;\n",
       "  color: #000000;\n",
       "}\n",
       "#T_6331f_row3_col0, #T_6331f_row4_col0, #T_6331f_row5_col0, #T_6331f_row7_col0 {\n",
       "  background-color: #e3e0ee;\n",
       "  color: #000000;\n",
       "}\n",
       "#T_6331f_row6_col0, #T_6331f_row8_col0, #T_6331f_row9_col0, #T_6331f_row10_col0, #T_6331f_row11_col0, #T_6331f_row12_col0, #T_6331f_row13_col0, #T_6331f_row14_col0, #T_6331f_row17_col0, #T_6331f_row18_col0, #T_6331f_row19_col0 {\n",
       "  background-color: #f2ecf5;\n",
       "  color: #000000;\n",
       "}\n",
       "#T_6331f_row15_col0, #T_6331f_row16_col0 {\n",
       "  background-color: #fff7fb;\n",
       "  color: #000000;\n",
       "}\n",
       "</style>\n",
       "<table id=\"T_6331f\">\n",
       "  <thead>\n",
       "    <tr>\n",
       "      <th class=\"blank level0\" >&nbsp;</th>\n",
       "      <th id=\"T_6331f_level0_col0\" class=\"col_heading level0 col0\" >rmse</th>\n",
       "    </tr>\n",
       "    <tr>\n",
       "      <th class=\"index_name level0\" >n_estimators</th>\n",
       "      <th class=\"blank col0\" >&nbsp;</th>\n",
       "    </tr>\n",
       "  </thead>\n",
       "  <tbody>\n",
       "    <tr>\n",
       "      <th id=\"T_6331f_level0_row0\" class=\"row_heading level0 row0\" >10</th>\n",
       "      <td id=\"T_6331f_row0_col0\" class=\"data row0 col0\" >0.245000</td>\n",
       "    </tr>\n",
       "    <tr>\n",
       "      <th id=\"T_6331f_level0_row1\" class=\"row_heading level0 row1\" >20</th>\n",
       "      <td id=\"T_6331f_row1_col0\" class=\"data row1 col0\" >0.238000</td>\n",
       "    </tr>\n",
       "    <tr>\n",
       "      <th id=\"T_6331f_level0_row2\" class=\"row_heading level0 row2\" >30</th>\n",
       "      <td id=\"T_6331f_row2_col0\" class=\"data row2 col0\" >0.237000</td>\n",
       "    </tr>\n",
       "    <tr>\n",
       "      <th id=\"T_6331f_level0_row3\" class=\"row_heading level0 row3\" >40</th>\n",
       "      <td id=\"T_6331f_row3_col0\" class=\"data row3 col0\" >0.235000</td>\n",
       "    </tr>\n",
       "    <tr>\n",
       "      <th id=\"T_6331f_level0_row4\" class=\"row_heading level0 row4\" >50</th>\n",
       "      <td id=\"T_6331f_row4_col0\" class=\"data row4 col0\" >0.235000</td>\n",
       "    </tr>\n",
       "    <tr>\n",
       "      <th id=\"T_6331f_level0_row5\" class=\"row_heading level0 row5\" >60</th>\n",
       "      <td id=\"T_6331f_row5_col0\" class=\"data row5 col0\" >0.235000</td>\n",
       "    </tr>\n",
       "    <tr>\n",
       "      <th id=\"T_6331f_level0_row6\" class=\"row_heading level0 row6\" >70</th>\n",
       "      <td id=\"T_6331f_row6_col0\" class=\"data row6 col0\" >0.234000</td>\n",
       "    </tr>\n",
       "    <tr>\n",
       "      <th id=\"T_6331f_level0_row7\" class=\"row_heading level0 row7\" >80</th>\n",
       "      <td id=\"T_6331f_row7_col0\" class=\"data row7 col0\" >0.235000</td>\n",
       "    </tr>\n",
       "    <tr>\n",
       "      <th id=\"T_6331f_level0_row8\" class=\"row_heading level0 row8\" >90</th>\n",
       "      <td id=\"T_6331f_row8_col0\" class=\"data row8 col0\" >0.234000</td>\n",
       "    </tr>\n",
       "    <tr>\n",
       "      <th id=\"T_6331f_level0_row9\" class=\"row_heading level0 row9\" >100</th>\n",
       "      <td id=\"T_6331f_row9_col0\" class=\"data row9 col0\" >0.234000</td>\n",
       "    </tr>\n",
       "    <tr>\n",
       "      <th id=\"T_6331f_level0_row10\" class=\"row_heading level0 row10\" >110</th>\n",
       "      <td id=\"T_6331f_row10_col0\" class=\"data row10 col0\" >0.234000</td>\n",
       "    </tr>\n",
       "    <tr>\n",
       "      <th id=\"T_6331f_level0_row11\" class=\"row_heading level0 row11\" >120</th>\n",
       "      <td id=\"T_6331f_row11_col0\" class=\"data row11 col0\" >0.234000</td>\n",
       "    </tr>\n",
       "    <tr>\n",
       "      <th id=\"T_6331f_level0_row12\" class=\"row_heading level0 row12\" >130</th>\n",
       "      <td id=\"T_6331f_row12_col0\" class=\"data row12 col0\" >0.234000</td>\n",
       "    </tr>\n",
       "    <tr>\n",
       "      <th id=\"T_6331f_level0_row13\" class=\"row_heading level0 row13\" >140</th>\n",
       "      <td id=\"T_6331f_row13_col0\" class=\"data row13 col0\" >0.234000</td>\n",
       "    </tr>\n",
       "    <tr>\n",
       "      <th id=\"T_6331f_level0_row14\" class=\"row_heading level0 row14\" >150</th>\n",
       "      <td id=\"T_6331f_row14_col0\" class=\"data row14 col0\" >0.234000</td>\n",
       "    </tr>\n",
       "    <tr>\n",
       "      <th id=\"T_6331f_level0_row15\" class=\"row_heading level0 row15\" >160</th>\n",
       "      <td id=\"T_6331f_row15_col0\" class=\"data row15 col0\" >0.233000</td>\n",
       "    </tr>\n",
       "    <tr>\n",
       "      <th id=\"T_6331f_level0_row16\" class=\"row_heading level0 row16\" >170</th>\n",
       "      <td id=\"T_6331f_row16_col0\" class=\"data row16 col0\" >0.233000</td>\n",
       "    </tr>\n",
       "    <tr>\n",
       "      <th id=\"T_6331f_level0_row17\" class=\"row_heading level0 row17\" >180</th>\n",
       "      <td id=\"T_6331f_row17_col0\" class=\"data row17 col0\" >0.234000</td>\n",
       "    </tr>\n",
       "    <tr>\n",
       "      <th id=\"T_6331f_level0_row18\" class=\"row_heading level0 row18\" >190</th>\n",
       "      <td id=\"T_6331f_row18_col0\" class=\"data row18 col0\" >0.234000</td>\n",
       "    </tr>\n",
       "    <tr>\n",
       "      <th id=\"T_6331f_level0_row19\" class=\"row_heading level0 row19\" >200</th>\n",
       "      <td id=\"T_6331f_row19_col0\" class=\"data row19 col0\" >0.234000</td>\n",
       "    </tr>\n",
       "  </tbody>\n",
       "</table>\n"
      ],
      "text/plain": [
       "<pandas.io.formats.style.Styler at 0x7f0ebf1bf850>"
      ]
     },
     "execution_count": 37,
     "metadata": {},
     "output_type": "execute_result"
    }
   ],
   "source": [
    "pd.DataFrame(res,columns=[\"n_estimators\",\"rmse\"]).set_index(\"n_estimators\").style.background_gradient(axis=0)  "
   ]
  },
  {
   "cell_type": "markdown",
   "id": "7d3f6f0e-9930-444a-aa1e-9d263fe99e90",
   "metadata": {},
   "source": [
    "## Question 4\n",
    "Let's select the best max_depth:\n",
    "\n",
    "Try different values of max_depth: [10, 15, 20, 25]\n",
    "For each of these values,\n",
    "try different values of n_estimators from 10 till 200 (with step 10)\n",
    "calculate the mean RMSE\n",
    "Fix the random seed: random_state=1<br>\n",
    "What's the best max_depth, using the mean RMSE?\n",
    "- 10\n",
    "- 15\n",
    "- 20\n",
    "- <b>25</b>"
   ]
  },
  {
   "cell_type": "code",
   "execution_count": 38,
   "id": "73ff8571-78b0-4de1-b827-e474107ac4e1",
   "metadata": {},
   "outputs": [],
   "source": [
    "max_depths = [10,15,20,25]\n",
    "res2 = []\n",
    "for md in max_depths:\n",
    "    for e in estimators:\n",
    "        model_rf = RandomForestRegressor(n_estimators=e, max_depth=md, random_state=1, n_jobs=-1)\n",
    "        model_rf.fit(X_train, y_train)\n",
    "        \n",
    "        val_dict = df_val.to_dict(orient='records')\n",
    "        X_val = dv.transform(val_dict)\n",
    "        y_pred = model_rf.predict(X_val)\n",
    "        \n",
    "        rmse = np.sqrt(mean_squared_error(y_val, y_pred))\n",
    "        res2.append((md,e,round(rmse,5)))"
   ]
  },
  {
   "cell_type": "code",
   "execution_count": 54,
   "id": "c81cac1c-5bf4-42d7-88e8-419abac79f39",
   "metadata": {},
   "outputs": [
    {
     "data": {
      "text/plain": [
       "[(10, 10, 0.25068),\n",
       " (10, 20, 0.24746),\n",
       " (10, 30, 0.24626),\n",
       " (10, 40, 0.24503),\n",
       " (10, 50, 0.24543)]"
      ]
     },
     "execution_count": 54,
     "metadata": {},
     "output_type": "execute_result"
    }
   ],
   "source": [
    "res2[:5]"
   ]
  },
  {
   "cell_type": "code",
   "execution_count": 50,
   "id": "08697ff5-f29d-4a0c-8847-162be47e801e",
   "metadata": {},
   "outputs": [],
   "source": [
    "res_df = pd.DataFrame(res2,columns=[\"max_depth\",\"n_estimator\",\"rmse\"])"
   ]
  },
  {
   "cell_type": "code",
   "execution_count": 52,
   "id": "8a4cb448-7684-4528-8196-a2b1370d7314",
   "metadata": {},
   "outputs": [
    {
     "data": {
      "text/html": [
       "<style type=\"text/css\">\n",
       "#T_d53e2_row0_col0, #T_d53e2_row0_col1, #T_d53e2_row0_col2, #T_d53e2_row0_col3 {\n",
       "  background-color: #023858;\n",
       "  color: #f1f1f1;\n",
       "}\n",
       "#T_d53e2_row1_col0 {\n",
       "  background-color: #79abd0;\n",
       "  color: #f1f1f1;\n",
       "}\n",
       "#T_d53e2_row1_col1 {\n",
       "  background-color: #84b0d3;\n",
       "  color: #f1f1f1;\n",
       "}\n",
       "#T_d53e2_row1_col2 {\n",
       "  background-color: #86b0d3;\n",
       "  color: #000000;\n",
       "}\n",
       "#T_d53e2_row1_col3 {\n",
       "  background-color: #88b1d4;\n",
       "  color: #000000;\n",
       "}\n",
       "#T_d53e2_row2_col0 {\n",
       "  background-color: #c1cae2;\n",
       "  color: #000000;\n",
       "}\n",
       "#T_d53e2_row2_col1 {\n",
       "  background-color: #bcc7e1;\n",
       "  color: #000000;\n",
       "}\n",
       "#T_d53e2_row2_col2 {\n",
       "  background-color: #c2cbe2;\n",
       "  color: #000000;\n",
       "}\n",
       "#T_d53e2_row2_col3 {\n",
       "  background-color: #cccfe5;\n",
       "  color: #000000;\n",
       "}\n",
       "#T_d53e2_row3_col0 {\n",
       "  background-color: #f1ebf4;\n",
       "  color: #000000;\n",
       "}\n",
       "#T_d53e2_row3_col1 {\n",
       "  background-color: #e8e4f0;\n",
       "  color: #000000;\n",
       "}\n",
       "#T_d53e2_row3_col2 {\n",
       "  background-color: #e6e2ef;\n",
       "  color: #000000;\n",
       "}\n",
       "#T_d53e2_row3_col3, #T_d53e2_row7_col1 {\n",
       "  background-color: #ebe6f2;\n",
       "  color: #000000;\n",
       "}\n",
       "#T_d53e2_row4_col0 {\n",
       "  background-color: #e4e1ef;\n",
       "  color: #000000;\n",
       "}\n",
       "#T_d53e2_row4_col1, #T_d53e2_row9_col0 {\n",
       "  background-color: #e7e3f0;\n",
       "  color: #000000;\n",
       "}\n",
       "#T_d53e2_row4_col2, #T_d53e2_row5_col1 {\n",
       "  background-color: #ede8f3;\n",
       "  color: #000000;\n",
       "}\n",
       "#T_d53e2_row4_col3, #T_d53e2_row7_col2, #T_d53e2_row8_col1, #T_d53e2_row11_col0 {\n",
       "  background-color: #f0eaf4;\n",
       "  color: #000000;\n",
       "}\n",
       "#T_d53e2_row5_col0 {\n",
       "  background-color: #ece7f2;\n",
       "  color: #000000;\n",
       "}\n",
       "#T_d53e2_row5_col2, #T_d53e2_row8_col2, #T_d53e2_row9_col1 {\n",
       "  background-color: #f1ebf5;\n",
       "  color: #000000;\n",
       "}\n",
       "#T_d53e2_row5_col3, #T_d53e2_row7_col3, #T_d53e2_row8_col3, #T_d53e2_row10_col1 {\n",
       "  background-color: #f4edf6;\n",
       "  color: #000000;\n",
       "}\n",
       "#T_d53e2_row6_col0 {\n",
       "  background-color: #e9e5f1;\n",
       "  color: #000000;\n",
       "}\n",
       "#T_d53e2_row6_col1 {\n",
       "  background-color: #eee9f3;\n",
       "  color: #000000;\n",
       "}\n",
       "#T_d53e2_row6_col2 {\n",
       "  background-color: #f2ecf5;\n",
       "  color: #000000;\n",
       "}\n",
       "#T_d53e2_row6_col3, #T_d53e2_row10_col3 {\n",
       "  background-color: #f5eff6;\n",
       "  color: #000000;\n",
       "}\n",
       "#T_d53e2_row7_col0 {\n",
       "  background-color: #e0deed;\n",
       "  color: #000000;\n",
       "}\n",
       "#T_d53e2_row8_col0 {\n",
       "  background-color: #e3e0ee;\n",
       "  color: #000000;\n",
       "}\n",
       "#T_d53e2_row9_col2, #T_d53e2_row9_col3 {\n",
       "  background-color: #f4eef6;\n",
       "  color: #000000;\n",
       "}\n",
       "#T_d53e2_row10_col0 {\n",
       "  background-color: #eae6f1;\n",
       "  color: #000000;\n",
       "}\n",
       "#T_d53e2_row10_col2, #T_d53e2_row12_col0 {\n",
       "  background-color: #f6eff7;\n",
       "  color: #000000;\n",
       "}\n",
       "#T_d53e2_row11_col1 {\n",
       "  background-color: #f7f0f7;\n",
       "  color: #000000;\n",
       "}\n",
       "#T_d53e2_row11_col2, #T_d53e2_row12_col3 {\n",
       "  background-color: #f9f2f8;\n",
       "  color: #000000;\n",
       "}\n",
       "#T_d53e2_row11_col3, #T_d53e2_row12_col1, #T_d53e2_row18_col0, #T_d53e2_row19_col0 {\n",
       "  background-color: #f8f1f8;\n",
       "  color: #000000;\n",
       "}\n",
       "#T_d53e2_row12_col2, #T_d53e2_row13_col0, #T_d53e2_row19_col3 {\n",
       "  background-color: #fbf4f9;\n",
       "  color: #000000;\n",
       "}\n",
       "#T_d53e2_row13_col1 {\n",
       "  background-color: #fbf3f9;\n",
       "  color: #000000;\n",
       "}\n",
       "#T_d53e2_row13_col2 {\n",
       "  background-color: #fef6fa;\n",
       "  color: #000000;\n",
       "}\n",
       "#T_d53e2_row13_col3, #T_d53e2_row14_col0, #T_d53e2_row19_col1 {\n",
       "  background-color: #fcf4fa;\n",
       "  color: #000000;\n",
       "}\n",
       "#T_d53e2_row14_col1, #T_d53e2_row14_col3, #T_d53e2_row17_col0, #T_d53e2_row17_col1, #T_d53e2_row17_col2, #T_d53e2_row17_col3, #T_d53e2_row19_col2 {\n",
       "  background-color: #fdf5fa;\n",
       "  color: #000000;\n",
       "}\n",
       "#T_d53e2_row14_col2, #T_d53e2_row15_col0 {\n",
       "  background-color: #fef6fb;\n",
       "  color: #000000;\n",
       "}\n",
       "#T_d53e2_row15_col1, #T_d53e2_row15_col2, #T_d53e2_row15_col3, #T_d53e2_row16_col0, #T_d53e2_row16_col1, #T_d53e2_row16_col2, #T_d53e2_row16_col3 {\n",
       "  background-color: #fff7fb;\n",
       "  color: #000000;\n",
       "}\n",
       "#T_d53e2_row18_col1 {\n",
       "  background-color: #faf3f9;\n",
       "  color: #000000;\n",
       "}\n",
       "#T_d53e2_row18_col2, #T_d53e2_row18_col3 {\n",
       "  background-color: #faf2f8;\n",
       "  color: #000000;\n",
       "}\n",
       "</style>\n",
       "<table id=\"T_d53e2\">\n",
       "  <thead>\n",
       "    <tr>\n",
       "      <th class=\"index_name level0\" >max_depth</th>\n",
       "      <th id=\"T_d53e2_level0_col0\" class=\"col_heading level0 col0\" >10</th>\n",
       "      <th id=\"T_d53e2_level0_col1\" class=\"col_heading level0 col1\" >15</th>\n",
       "      <th id=\"T_d53e2_level0_col2\" class=\"col_heading level0 col2\" >20</th>\n",
       "      <th id=\"T_d53e2_level0_col3\" class=\"col_heading level0 col3\" >25</th>\n",
       "    </tr>\n",
       "    <tr>\n",
       "      <th class=\"index_name level0\" >n_estimator</th>\n",
       "      <th class=\"blank col0\" >&nbsp;</th>\n",
       "      <th class=\"blank col1\" >&nbsp;</th>\n",
       "      <th class=\"blank col2\" >&nbsp;</th>\n",
       "      <th class=\"blank col3\" >&nbsp;</th>\n",
       "    </tr>\n",
       "  </thead>\n",
       "  <tbody>\n",
       "    <tr>\n",
       "      <th id=\"T_d53e2_level0_row0\" class=\"row_heading level0 row0\" >10</th>\n",
       "      <td id=\"T_d53e2_row0_col0\" class=\"data row0 col0\" >0.250680</td>\n",
       "      <td id=\"T_d53e2_row0_col1\" class=\"data row0 col1\" >0.245730</td>\n",
       "      <td id=\"T_d53e2_row0_col2\" class=\"data row0 col2\" >0.245310</td>\n",
       "      <td id=\"T_d53e2_row0_col3\" class=\"data row0 col3\" >0.245080</td>\n",
       "    </tr>\n",
       "    <tr>\n",
       "      <th id=\"T_d53e2_level0_row1\" class=\"row_heading level0 row1\" >20</th>\n",
       "      <td id=\"T_d53e2_row1_col0\" class=\"data row1 col0\" >0.247460</td>\n",
       "      <td id=\"T_d53e2_row1_col1\" class=\"data row1 col1\" >0.239530</td>\n",
       "      <td id=\"T_d53e2_row1_col2\" class=\"data row1 col2\" >0.238980</td>\n",
       "      <td id=\"T_d53e2_row1_col3\" class=\"data row1 col3\" >0.238660</td>\n",
       "    </tr>\n",
       "    <tr>\n",
       "      <th id=\"T_d53e2_level0_row2\" class=\"row_heading level0 row2\" >30</th>\n",
       "      <td id=\"T_d53e2_row2_col0\" class=\"data row2 col0\" >0.246260</td>\n",
       "      <td id=\"T_d53e2_row2_col1\" class=\"data row2 col1\" >0.237810</td>\n",
       "      <td id=\"T_d53e2_row2_col2\" class=\"data row2 col2\" >0.237110</td>\n",
       "      <td id=\"T_d53e2_row2_col3\" class=\"data row2 col3\" >0.236450</td>\n",
       "    </tr>\n",
       "    <tr>\n",
       "      <th id=\"T_d53e2_level0_row3\" class=\"row_heading level0 row3\" >40</th>\n",
       "      <td id=\"T_d53e2_row3_col0\" class=\"data row3 col0\" >0.245030</td>\n",
       "      <td id=\"T_d53e2_row3_col1\" class=\"data row3 col1\" >0.235900</td>\n",
       "      <td id=\"T_d53e2_row3_col2\" class=\"data row3 col2\" >0.235520</td>\n",
       "      <td id=\"T_d53e2_row3_col3\" class=\"data row3 col3\" >0.234940</td>\n",
       "    </tr>\n",
       "    <tr>\n",
       "      <th id=\"T_d53e2_level0_row4\" class=\"row_heading level0 row4\" >50</th>\n",
       "      <td id=\"T_d53e2_row4_col0\" class=\"data row4 col0\" >0.245430</td>\n",
       "      <td id=\"T_d53e2_row4_col1\" class=\"data row4 col1\" >0.235930</td>\n",
       "      <td id=\"T_d53e2_row4_col2\" class=\"data row4 col2\" >0.235130</td>\n",
       "      <td id=\"T_d53e2_row4_col3\" class=\"data row4 col3\" >0.234590</td>\n",
       "    </tr>\n",
       "    <tr>\n",
       "      <th id=\"T_d53e2_level0_row5\" class=\"row_heading level0 row5\" >60</th>\n",
       "      <td id=\"T_d53e2_row5_col0\" class=\"data row5 col0\" >0.245220</td>\n",
       "      <td id=\"T_d53e2_row5_col1\" class=\"data row5 col1\" >0.235620</td>\n",
       "      <td id=\"T_d53e2_row5_col2\" class=\"data row5 col2\" >0.234790</td>\n",
       "      <td id=\"T_d53e2_row5_col3\" class=\"data row5 col3\" >0.234260</td>\n",
       "    </tr>\n",
       "    <tr>\n",
       "      <th id=\"T_d53e2_level0_row6\" class=\"row_heading level0 row6\" >70</th>\n",
       "      <td id=\"T_d53e2_row6_col0\" class=\"data row6 col0\" >0.245290</td>\n",
       "      <td id=\"T_d53e2_row6_col1\" class=\"data row6 col1\" >0.235540</td>\n",
       "      <td id=\"T_d53e2_row6_col2\" class=\"data row6 col2\" >0.234700</td>\n",
       "      <td id=\"T_d53e2_row6_col3\" class=\"data row6 col3\" >0.234140</td>\n",
       "    </tr>\n",
       "    <tr>\n",
       "      <th id=\"T_d53e2_level0_row7\" class=\"row_heading level0 row7\" >80</th>\n",
       "      <td id=\"T_d53e2_row7_col0\" class=\"data row7 col0\" >0.245540</td>\n",
       "      <td id=\"T_d53e2_row7_col1\" class=\"data row7 col1\" >0.235770</td>\n",
       "      <td id=\"T_d53e2_row7_col2\" class=\"data row7 col2\" >0.234910</td>\n",
       "      <td id=\"T_d53e2_row7_col3\" class=\"data row7 col3\" >0.234300</td>\n",
       "    </tr>\n",
       "    <tr>\n",
       "      <th id=\"T_d53e2_level0_row8\" class=\"row_heading level0 row8\" >90</th>\n",
       "      <td id=\"T_d53e2_row8_col0\" class=\"data row8 col0\" >0.245450</td>\n",
       "      <td id=\"T_d53e2_row8_col1\" class=\"data row8 col1\" >0.235450</td>\n",
       "      <td id=\"T_d53e2_row8_col2\" class=\"data row8 col2\" >0.234810</td>\n",
       "      <td id=\"T_d53e2_row8_col3\" class=\"data row8 col3\" >0.234300</td>\n",
       "    </tr>\n",
       "    <tr>\n",
       "      <th id=\"T_d53e2_level0_row9\" class=\"row_heading level0 row9\" >100</th>\n",
       "      <td id=\"T_d53e2_row9_col0\" class=\"data row9 col0\" >0.245370</td>\n",
       "      <td id=\"T_d53e2_row9_col1\" class=\"data row9 col1\" >0.235330</td>\n",
       "      <td id=\"T_d53e2_row9_col2\" class=\"data row9 col2\" >0.234560</td>\n",
       "      <td id=\"T_d53e2_row9_col3\" class=\"data row9 col3\" >0.234250</td>\n",
       "    </tr>\n",
       "    <tr>\n",
       "      <th id=\"T_d53e2_level0_row10\" class=\"row_heading level0 row10\" >110</th>\n",
       "      <td id=\"T_d53e2_row10_col0\" class=\"data row10 col0\" >0.245260</td>\n",
       "      <td id=\"T_d53e2_row10_col1\" class=\"data row10 col1\" >0.235150</td>\n",
       "      <td id=\"T_d53e2_row10_col2\" class=\"data row10 col2\" >0.234430</td>\n",
       "      <td id=\"T_d53e2_row10_col3\" class=\"data row10 col3\" >0.234130</td>\n",
       "    </tr>\n",
       "    <tr>\n",
       "      <th id=\"T_d53e2_level0_row11\" class=\"row_heading level0 row11\" >120</th>\n",
       "      <td id=\"T_d53e2_row11_col0\" class=\"data row11 col0\" >0.245050</td>\n",
       "      <td id=\"T_d53e2_row11_col1\" class=\"data row11 col1\" >0.234930</td>\n",
       "      <td id=\"T_d53e2_row11_col2\" class=\"data row11 col2\" >0.234190</td>\n",
       "      <td id=\"T_d53e2_row11_col3\" class=\"data row11 col3\" >0.233950</td>\n",
       "    </tr>\n",
       "    <tr>\n",
       "      <th id=\"T_d53e2_level0_row12\" class=\"row_heading level0 row12\" >130</th>\n",
       "      <td id=\"T_d53e2_row12_col0\" class=\"data row12 col0\" >0.244790</td>\n",
       "      <td id=\"T_d53e2_row12_col1\" class=\"data row12 col1\" >0.234790</td>\n",
       "      <td id=\"T_d53e2_row12_col2\" class=\"data row12 col2\" >0.234020</td>\n",
       "      <td id=\"T_d53e2_row12_col3\" class=\"data row12 col3\" >0.233850</td>\n",
       "    </tr>\n",
       "    <tr>\n",
       "      <th id=\"T_d53e2_level0_row13\" class=\"row_heading level0 row13\" >140</th>\n",
       "      <td id=\"T_d53e2_row13_col0\" class=\"data row13 col0\" >0.244570</td>\n",
       "      <td id=\"T_d53e2_row13_col1\" class=\"data row13 col1\" >0.234600</td>\n",
       "      <td id=\"T_d53e2_row13_col2\" class=\"data row13 col2\" >0.233850</td>\n",
       "      <td id=\"T_d53e2_row13_col3\" class=\"data row13 col3\" >0.233640</td>\n",
       "    </tr>\n",
       "    <tr>\n",
       "      <th id=\"T_d53e2_level0_row14\" class=\"row_heading level0 row14\" >150</th>\n",
       "      <td id=\"T_d53e2_row14_col0\" class=\"data row14 col0\" >0.244550</td>\n",
       "      <td id=\"T_d53e2_row14_col1\" class=\"data row14 col1\" >0.234480</td>\n",
       "      <td id=\"T_d53e2_row14_col2\" class=\"data row14 col2\" >0.233810</td>\n",
       "      <td id=\"T_d53e2_row14_col3\" class=\"data row14 col3\" >0.233540</td>\n",
       "    </tr>\n",
       "    <tr>\n",
       "      <th id=\"T_d53e2_level0_row15\" class=\"row_heading level0 row15\" >160</th>\n",
       "      <td id=\"T_d53e2_row15_col0\" class=\"data row15 col0\" >0.244460</td>\n",
       "      <td id=\"T_d53e2_row15_col1\" class=\"data row15 col1\" >0.234300</td>\n",
       "      <td id=\"T_d53e2_row15_col2\" class=\"data row15 col2\" >0.233730</td>\n",
       "      <td id=\"T_d53e2_row15_col3\" class=\"data row15 col3\" >0.233400</td>\n",
       "    </tr>\n",
       "    <tr>\n",
       "      <th id=\"T_d53e2_level0_row16\" class=\"row_heading level0 row16\" >170</th>\n",
       "      <td id=\"T_d53e2_row16_col0\" class=\"data row16 col0\" >0.244420</td>\n",
       "      <td id=\"T_d53e2_row16_col1\" class=\"data row16 col1\" >0.234270</td>\n",
       "      <td id=\"T_d53e2_row16_col2\" class=\"data row16 col2\" >0.233740</td>\n",
       "      <td id=\"T_d53e2_row16_col3\" class=\"data row16 col3\" >0.233390</td>\n",
       "    </tr>\n",
       "    <tr>\n",
       "      <th id=\"T_d53e2_level0_row17\" class=\"row_heading level0 row17\" >180</th>\n",
       "      <td id=\"T_d53e2_row17_col0\" class=\"data row17 col0\" >0.244520</td>\n",
       "      <td id=\"T_d53e2_row17_col1\" class=\"data row17 col1\" >0.234450</td>\n",
       "      <td id=\"T_d53e2_row17_col2\" class=\"data row17 col2\" >0.233940</td>\n",
       "      <td id=\"T_d53e2_row17_col3\" class=\"data row17 col3\" >0.233570</td>\n",
       "    </tr>\n",
       "    <tr>\n",
       "      <th id=\"T_d53e2_level0_row18\" class=\"row_heading level0 row18\" >190</th>\n",
       "      <td id=\"T_d53e2_row18_col0\" class=\"data row18 col0\" >0.244720</td>\n",
       "      <td id=\"T_d53e2_row18_col1\" class=\"data row18 col1\" >0.234670</td>\n",
       "      <td id=\"T_d53e2_row18_col2\" class=\"data row18 col2\" >0.234180</td>\n",
       "      <td id=\"T_d53e2_row18_col3\" class=\"data row18 col3\" >0.233810</td>\n",
       "    </tr>\n",
       "    <tr>\n",
       "      <th id=\"T_d53e2_level0_row19\" class=\"row_heading level0 row19\" >200</th>\n",
       "      <td id=\"T_d53e2_row19_col0\" class=\"data row19 col0\" >0.244730</td>\n",
       "      <td id=\"T_d53e2_row19_col1\" class=\"data row19 col1\" >0.234520</td>\n",
       "      <td id=\"T_d53e2_row19_col2\" class=\"data row19 col2\" >0.233950</td>\n",
       "      <td id=\"T_d53e2_row19_col3\" class=\"data row19 col3\" >0.233690</td>\n",
       "    </tr>\n",
       "  </tbody>\n",
       "</table>\n"
      ],
      "text/plain": [
       "<pandas.io.formats.style.Styler at 0x7f0e90f15510>"
      ]
     },
     "execution_count": 52,
     "metadata": {},
     "output_type": "execute_result"
    }
   ],
   "source": [
    "res_df.pivot(index='n_estimator', columns='max_depth', values='rmse').style.background_gradient(axis=0)  "
   ]
  },
  {
   "cell_type": "code",
   "execution_count": 60,
   "id": "f6c5fe03-500b-473c-bbb7-4ee64644be5d",
   "metadata": {},
   "outputs": [
    {
     "data": {
      "text/plain": [
       "max_depth\n",
       "25    0.234897\n",
       "20    0.235283\n",
       "15    0.235938\n",
       "10    0.245440\n",
       "dtype: float64"
      ]
     },
     "execution_count": 60,
     "metadata": {},
     "output_type": "execute_result"
    }
   ],
   "source": [
    "res_df.pivot(index='n_estimator', columns='max_depth', values='rmse').mean().sort_values(ascending=True)"
   ]
  },
  {
   "cell_type": "markdown",
   "id": "12a20d5a-e5da-4dce-809a-410741c1c162",
   "metadata": {},
   "source": [
    "## Question 5\n",
    "We can extract feature importance information from tree-based models.\n",
    "\n",
    "At each step of the decision tree learning algorithm, it finds the best split. When doing it, we can calculate \"gain\" - the reduction in impurity before and after the split. This gain is quite useful in understanding what are the important features for tree-based models.\n",
    "\n",
    "In Scikit-Learn, tree-based models contain this information in the feature_importances_ field.\n",
    "\n",
    "For this homework question, we'll find the most important feature:\n",
    "\n",
    "Train the model with these parameters:\n",
    "n_estimators=10,\n",
    "max_depth=20,\n",
    "random_state=1,\n",
    "n_jobs=-1 (optional)\n",
    "Get the feature importance information from this model<br>\n",
    "What's the most important feature (among these 4)?\n",
    "- total_rooms\n",
    "- <b>median_income</b>\n",
    "- total_bedrooms\n",
    "- longitude"
   ]
  },
  {
   "cell_type": "code",
   "execution_count": null,
   "id": "3a4dd7a3-b169-4e70-8dad-d7bc62de9244",
   "metadata": {},
   "outputs": [],
   "source": [
    "model_rf = RandomForestRegressor(n_estimators=10, max_depth=20, random_state=1, n_jobs=-1)\n",
    "model_rf.fit(X_train, y_train)"
   ]
  },
  {
   "cell_type": "code",
   "execution_count": 81,
   "id": "4997d4af-26ca-45bb-b251-f49b145c2928",
   "metadata": {},
   "outputs": [
    {
     "data": {
      "text/plain": [
       "array([0.01493345, 0.03200421, 0.10066265, 0.08660514, 0.33661832,\n",
       "       0.22586047, 0.13841961, 0.02743477, 0.01580507, 0.02165631])"
      ]
     },
     "execution_count": 81,
     "metadata": {},
     "output_type": "execute_result"
    }
   ],
   "source": [
    "importances = model_rf.feature_importances_\n",
    "importances"
   ]
  },
  {
   "cell_type": "code",
   "execution_count": 84,
   "id": "47af6374-f9d8-45bd-9e1b-0961bafb135d",
   "metadata": {},
   "outputs": [
    {
     "data": {
      "text/plain": [
       "['households',\n",
       " 'housing_median_age',\n",
       " 'latitude',\n",
       " 'longitude',\n",
       " 'median_income',\n",
       " 'ocean_proximity=<1H OCEAN',\n",
       " 'ocean_proximity=INLAND',\n",
       " 'population',\n",
       " 'total_bedrooms',\n",
       " 'total_rooms']"
      ]
     },
     "execution_count": 84,
     "metadata": {},
     "output_type": "execute_result"
    }
   ],
   "source": [
    "feature_names = dv.feature_names_\n",
    "feature_names"
   ]
  },
  {
   "cell_type": "code",
   "execution_count": 85,
   "id": "72e1172f-2145-4a4f-8a9c-37ff094faf3c",
   "metadata": {},
   "outputs": [
    {
     "data": {
      "text/plain": [
       "array([0.00250049, 0.00280063, 0.00691996, 0.00623897, 0.00788946,\n",
       "       0.17695737, 0.17686491, 0.00342338, 0.00253456, 0.00293455])"
      ]
     },
     "execution_count": 85,
     "metadata": {},
     "output_type": "execute_result"
    }
   ],
   "source": [
    "std = np.std([tree.feature_importances_ for tree in model_rf.estimators_], axis=0)\n",
    "std"
   ]
  },
  {
   "cell_type": "code",
   "execution_count": 86,
   "id": "dd6f08b0-594a-48ac-be93-7708205bf0f5",
   "metadata": {},
   "outputs": [
    {
     "data": {
      "image/png": "[encoded data removed]",
      "text/plain": [
       "<Figure size 640x480 with 1 Axes>"
      ]
     },
     "metadata": {},
     "output_type": "display_data"
    }
   ],
   "source": [
    "fig, ax = plt.subplots()\n",
    "forest_importances = pd.Series(importances, index=feature_names)\n",
    "forest_importances.plot.bar(yerr=std, ax=ax)\n",
    "ax.set_title(\"Feature importances using MDI\")\n",
    "ax.set_ylabel(\"Mean decrease in impurity\")\n",
    "fig.tight_layout()"
   ]
  },
  {
   "cell_type": "markdown",
   "id": "402e2fbf-557f-4174-a8c1-a7076d79b8bf",
   "metadata": {},
   "source": [
    "## Question 6\n",
    "Now let's train an XGBoost model! For this question, we'll tune the eta parameter:\n",
    "\n",
    "Install XGBoost\n",
    "Create DMatrix for train and validation\n",
    "Create a watchlist\n",
    "Train a model with these parameters for 100 rounds:\n",
    "\n",
    "xgb_params = {\n",
    "\n",
    "    'eta': 0.3, \n",
    "\n",
    "    'max_depth': 6,\n",
    "    \n",
    "    'min_child_weight': 1,\n",
    "    \n",
    "    'objective': 'reg:squarederror',\n",
    "    \n",
    "    'nthread': 8,\n",
    "    \n",
    "    'seed': 1,\n",
    "    \n",
    "    'verbosity': 1,\n",
    "}\n",
    "\n",
    "\n",
    "Now change eta from 0.3 to 0.1.\n",
    "<br>\n",
    "Which eta leads to the best RMSE score on the validation dataset?\n",
    "- <b>0.3</b>\n",
    "- 0.1\n",
    "- Both give equal value"
   ]
  },
  {
   "cell_type": "code",
   "execution_count": 22,
   "id": "7c7b78ab-ff6a-4432-8bae-4132f19fd743",
   "metadata": {},
   "outputs": [],
   "source": [
    "val_dict = df_val.to_dict(orient='records')\n",
    "X_val = dv.transform(val_dict)"
   ]
  },
  {
   "cell_type": "code",
   "execution_count": 23,
   "id": "92dd122c-1247-441f-9127-e4a78afa8944",
   "metadata": {},
   "outputs": [
    {
     "data": {
      "text/plain": [
       "['households',\n",
       " 'housing_median_age',\n",
       " 'latitude',\n",
       " 'longitude',\n",
       " 'median_income',\n",
       " 'ocean_proximity=less1H OCEAN',\n",
       " 'ocean_proximity=INLAND',\n",
       " 'population',\n",
       " 'total_bedrooms',\n",
       " 'total_rooms']"
      ]
     },
     "execution_count": 23,
     "metadata": {},
     "output_type": "execute_result"
    }
   ],
   "source": [
    "features = dv.feature_names_\n",
    "features = [f.replace(\"<\",\"less\") for f in features]\n",
    "features"
   ]
  },
  {
   "cell_type": "code",
   "execution_count": 24,
   "id": "c0ae60f2-20df-4196-a791-53424c709a9c",
   "metadata": {},
   "outputs": [],
   "source": [
    "dtrain = xgb.DMatrix(X_train, label=y_train, feature_names=features)\n",
    "dval = xgb.DMatrix(X_val, label=y_val, feature_names=features)"
   ]
  },
  {
   "cell_type": "code",
   "execution_count": 32,
   "id": "8bf216a3-c41f-4f5c-bb58-6fbe9ecfd45d",
   "metadata": {},
   "outputs": [],
   "source": [
    "watchlist = [(dtrain, 'train'), (dval, 'val')]"
   ]
  },
  {
   "cell_type": "code",
   "execution_count": 34,
   "id": "5896ebb5-c808-476e-a196-8983001a186f",
   "metadata": {},
   "outputs": [],
   "source": [
    "xgb_params = {\n",
    "    'eta': 0.3, \n",
    "    'max_depth': 6,\n",
    "    'min_child_weight': 1,\n",
    "    'objective': 'reg:squarederror',\n",
    "    'eval_metric': 'rmse',\n",
    "    'nthread': 8,\n",
    "    'seed': 1,\n",
    "    'verbosity': 1,\n",
    "}"
   ]
  },
  {
   "cell_type": "code",
   "execution_count": 37,
   "id": "040a8411-4695-46c9-8c60-4d8baf39a2ba",
   "metadata": {},
   "outputs": [
    {
     "name": "stdout",
     "output_type": "stream",
     "text": [
      "[0]\ttrain-rmse:0.44350\tval-rmse:0.44250\n",
      "[5]\ttrain-rmse:0.25338\tval-rmse:0.27463\n",
      "[10]\ttrain-rmse:0.21444\tval-rmse:0.25179\n",
      "[15]\ttrain-rmse:0.19858\tval-rmse:0.24522\n",
      "[20]\ttrain-rmse:0.18524\tval-rmse:0.23978\n",
      "[25]\ttrain-rmse:0.17757\tval-rmse:0.23830\n",
      "[30]\ttrain-rmse:0.16888\tval-rmse:0.23570\n",
      "[35]\ttrain-rmse:0.16113\tval-rmse:0.23416\n",
      "[40]\ttrain-rmse:0.15542\tval-rmse:0.23318\n",
      "[45]\ttrain-rmse:0.14941\tval-rmse:0.23190\n",
      "[50]\ttrain-rmse:0.14536\tval-rmse:0.23225\n",
      "[55]\ttrain-rmse:0.14150\tval-rmse:0.23197\n",
      "[60]\ttrain-rmse:0.13719\tval-rmse:0.23139\n",
      "[65]\ttrain-rmse:0.13259\tval-rmse:0.23158\n",
      "[70]\ttrain-rmse:0.12943\tval-rmse:0.23068\n",
      "[75]\ttrain-rmse:0.12555\tval-rmse:0.23039\n",
      "[80]\ttrain-rmse:0.12192\tval-rmse:0.22886\n",
      "[85]\ttrain-rmse:0.11854\tval-rmse:0.22888\n",
      "[90]\ttrain-rmse:0.11496\tval-rmse:0.22861\n",
      "[95]\ttrain-rmse:0.11211\tval-rmse:0.22908\n",
      "[99]\ttrain-rmse:0.10989\tval-rmse:0.22862\n"
     ]
    }
   ],
   "source": [
    "model = xgb.train(\n",
    "    xgb_params, \n",
    "    dtrain,\n",
    "    evals=watchlist,\n",
    "    verbose_eval=5,#print every 5 step\n",
    "    num_boost_round=100)"
   ]
  },
  {
   "cell_type": "code",
   "execution_count": 38,
   "id": "a161e65e-6f26-442a-a151-c93841213b25",
   "metadata": {},
   "outputs": [],
   "source": [
    "y_pred = model.predict(dval)"
   ]
  },
  {
   "cell_type": "code",
   "execution_count": 39,
   "id": "9f092423-4984-4e80-aee7-4006630e2e10",
   "metadata": {},
   "outputs": [
    {
     "data": {
      "text/plain": [
       "array([12.246578 , 12.132448 , 11.651083 , ..., 12.083826 , 11.0586195,\n",
       "       11.775838 ], dtype=float32)"
      ]
     },
     "execution_count": 39,
     "metadata": {},
     "output_type": "execute_result"
    }
   ],
   "source": [
    "y_pred"
   ]
  },
  {
   "cell_type": "code",
   "execution_count": 41,
   "id": "24a86174-9411-4009-98f9-bf641c9ce514",
   "metadata": {},
   "outputs": [
    {
     "data": {
      "text/plain": [
       "0.228623199980106"
      ]
     },
     "execution_count": 41,
     "metadata": {},
     "output_type": "execute_result"
    }
   ],
   "source": [
    "rmse = np.sqrt(mean_squared_error(y_val, y_pred))\n",
    "rmse"
   ]
  },
  {
   "cell_type": "markdown",
   "id": "160b74ec-1917-41f2-a628-a4f90f54b32c",
   "metadata": {},
   "source": [
    "##### Second model 'eta': 0.1"
   ]
  },
  {
   "cell_type": "code",
   "execution_count": 42,
   "id": "33f77968-94e1-49a2-a6f7-24f7e27a9fed",
   "metadata": {},
   "outputs": [],
   "source": [
    "xgb_params = {\n",
    "    'eta': 0.1, \n",
    "    'max_depth': 6,\n",
    "    'min_child_weight': 1,\n",
    "    'objective': 'reg:squarederror',\n",
    "    'eval_metric': 'rmse',\n",
    "    'nthread': 8,\n",
    "    'seed': 1,\n",
    "    'verbosity': 1,\n",
    "}"
   ]
  },
  {
   "cell_type": "code",
   "execution_count": 43,
   "id": "8d5d71b8-844d-453c-8b89-96dc84a13092",
   "metadata": {},
   "outputs": [
    {
     "name": "stdout",
     "output_type": "stream",
     "text": [
      "[0]\ttrain-rmse:0.52449\tval-rmse:0.52045\n",
      "[5]\ttrain-rmse:0.37822\tval-rmse:0.38151\n",
      "[10]\ttrain-rmse:0.30326\tval-rmse:0.31427\n",
      "[15]\ttrain-rmse:0.26538\tval-rmse:0.28380\n",
      "[20]\ttrain-rmse:0.24512\tval-rmse:0.26882\n",
      "[25]\ttrain-rmse:0.23026\tval-rmse:0.25997\n",
      "[30]\ttrain-rmse:0.21887\tval-rmse:0.25266\n",
      "[35]\ttrain-rmse:0.21020\tval-rmse:0.24826\n",
      "[40]\ttrain-rmse:0.20392\tval-rmse:0.24539\n",
      "[45]\ttrain-rmse:0.19814\tval-rmse:0.24293\n",
      "[50]\ttrain-rmse:0.19215\tval-rmse:0.24020\n",
      "[55]\ttrain-rmse:0.18809\tval-rmse:0.23878\n",
      "[60]\ttrain-rmse:0.18457\tval-rmse:0.23791\n",
      "[65]\ttrain-rmse:0.18063\tval-rmse:0.23698\n",
      "[70]\ttrain-rmse:0.17741\tval-rmse:0.23622\n",
      "[75]\ttrain-rmse:0.17468\tval-rmse:0.23510\n",
      "[80]\ttrain-rmse:0.17242\tval-rmse:0.23453\n",
      "[85]\ttrain-rmse:0.17014\tval-rmse:0.23404\n",
      "[90]\ttrain-rmse:0.16797\tval-rmse:0.23332\n",
      "[95]\ttrain-rmse:0.16562\tval-rmse:0.23276\n",
      "[99]\ttrain-rmse:0.16323\tval-rmse:0.23209\n"
     ]
    }
   ],
   "source": [
    "model = xgb.train(\n",
    "    xgb_params, \n",
    "    dtrain,\n",
    "    evals=watchlist,\n",
    "    verbose_eval=5,#print every 5 step\n",
    "    num_boost_round=100)"
   ]
  },
  {
   "cell_type": "code",
   "execution_count": 44,
   "id": "e9c55346-2c3a-42e1-a1f8-408b589ec600",
   "metadata": {},
   "outputs": [
    {
     "data": {
      "text/plain": [
       "0.23208927121609343"
      ]
     },
     "execution_count": 44,
     "metadata": {},
     "output_type": "execute_result"
    }
   ],
   "source": [
    "y_pred = model.predict(dval)\n",
    "rmse = np.sqrt(mean_squared_error(y_val, y_pred))\n",
    "rmse"
   ]
  },
  {
   "cell_type": "code",
   "execution_count": null,
   "id": "e77e1bd8-2d46-46ad-ae38-3a89e45809bd",
   "metadata": {},
   "outputs": [],
   "source": []
  }
 ],
 "metadata": {
  "kernelspec": {
   "display_name": "Python 3 (ipykernel)",
   "language": "python",
   "name": "python3"
  },
  "language_info": {
   "codemirror_mode": {
    "name": "ipython",
    "version": 3
   },
   "file_extension": ".py",
   "mimetype": "text/x-python",
   "name": "python",
   "nbconvert_exporter": "python",
   "pygments_lexer": "ipython3",
   "version": "3.11.5"
  }
 },
 "nbformat": 4,
 "nbformat_minor": 5
}
